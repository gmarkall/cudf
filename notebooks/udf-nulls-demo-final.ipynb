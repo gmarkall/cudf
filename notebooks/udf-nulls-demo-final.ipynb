{
 "cells": [
  {
   "cell_type": "markdown",
   "id": "brutal-princeton",
   "metadata": {},
   "source": [
    "# NA in cuDF UDFs\n",
    "cuDFs design decision to store null informtion in bitmasks is really smart, and makes things very performant and tractable in memory bound circumstances such as GPU operations. However this design when coupled with the natural inefficiencies that arise from any kind of serial iteration over our data has made `<NA>` support in general user defined functions hard to solution for. This notebook offers an approach based on jitting a UDF's arguments as a special custom Numba type to produce a generic PTX function. This function is than inlined into a general kernel in libcudf and passed the relevant data and masks inside of libcudf.  "
   ]
  },
  {
   "cell_type": "markdown",
   "id": "scenic-laugh",
   "metadata": {},
   "source": [
    "#### Problem setup: concrete example"
   ]
  },
  {
   "cell_type": "code",
   "execution_count": 1,
   "id": "above-athletics",
   "metadata": {},
   "outputs": [],
   "source": [
    "import pandas as pd\n",
    "import numpy as np\n",
    "import cudf"
   ]
  },
  {
   "cell_type": "code",
   "execution_count": 2,
   "id": "declared-correspondence",
   "metadata": {},
   "outputs": [
    {
     "data": {
      "text/html": [
       "<div>\n",
       "<style scoped>\n",
       "    .dataframe tbody tr th:only-of-type {\n",
       "        vertical-align: middle;\n",
       "    }\n",
       "\n",
       "    .dataframe tbody tr th {\n",
       "        vertical-align: top;\n",
       "    }\n",
       "\n",
       "    .dataframe thead th {\n",
       "        text-align: right;\n",
       "    }\n",
       "</style>\n",
       "<table border=\"1\" class=\"dataframe\">\n",
       "  <thead>\n",
       "    <tr style=\"text-align: right;\">\n",
       "      <th></th>\n",
       "      <th>x</th>\n",
       "      <th>y</th>\n",
       "    </tr>\n",
       "  </thead>\n",
       "  <tbody>\n",
       "    <tr>\n",
       "      <th>0</th>\n",
       "      <td>1</td>\n",
       "      <td>1</td>\n",
       "    </tr>\n",
       "    <tr>\n",
       "      <th>1</th>\n",
       "      <td>&lt;NA&gt;</td>\n",
       "      <td>2</td>\n",
       "    </tr>\n",
       "    <tr>\n",
       "      <th>2</th>\n",
       "      <td>3</td>\n",
       "      <td>&lt;NA&gt;</td>\n",
       "    </tr>\n",
       "  </tbody>\n",
       "</table>\n",
       "</div>"
      ],
      "text/plain": [
       "      x     y\n",
       "0     1     1\n",
       "1  <NA>     2\n",
       "2     3  <NA>"
      ]
     },
     "execution_count": 2,
     "metadata": {},
     "output_type": "execute_result"
    }
   ],
   "source": [
    "df = cudf.DataFrame({\n",
    "    'x': [1, None, 3],\n",
    "    'y': [1, 2, None]\n",
    "})\n",
    "df.head()"
   ]
  },
  {
   "cell_type": "markdown",
   "id": "expected-milwaukee",
   "metadata": {},
   "source": [
    "Consider the following UDF on two variables adapted from https://docs.rapids.ai/api/cudf/stable/guide-to-udfs.html. This API is fairly different from the pandas API, for several reasons:\n",
    "- In cuDF, We need to write a loop over arrays in classic numba syntax\n",
    "- In cuDF, the function returns into an output column we provide as an argument\n",
    "- The result is different!"
   ]
  },
  {
   "cell_type": "code",
   "execution_count": 3,
   "id": "tired-niger",
   "metadata": {},
   "outputs": [
    {
     "data": {
      "text/html": [
       "<div>\n",
       "<style scoped>\n",
       "    .dataframe tbody tr th:only-of-type {\n",
       "        vertical-align: middle;\n",
       "    }\n",
       "\n",
       "    .dataframe tbody tr th {\n",
       "        vertical-align: top;\n",
       "    }\n",
       "\n",
       "    .dataframe thead th {\n",
       "        text-align: right;\n",
       "    }\n",
       "</style>\n",
       "<table border=\"1\" class=\"dataframe\">\n",
       "  <thead>\n",
       "    <tr style=\"text-align: right;\">\n",
       "      <th></th>\n",
       "      <th>x</th>\n",
       "      <th>y</th>\n",
       "      <th>out</th>\n",
       "    </tr>\n",
       "  </thead>\n",
       "  <tbody>\n",
       "    <tr>\n",
       "      <th>0</th>\n",
       "      <td>1</td>\n",
       "      <td>1</td>\n",
       "      <td>2</td>\n",
       "    </tr>\n",
       "    <tr>\n",
       "      <th>1</th>\n",
       "      <td>&lt;NA&gt;</td>\n",
       "      <td>2</td>\n",
       "      <td>&lt;NA&gt;</td>\n",
       "    </tr>\n",
       "    <tr>\n",
       "      <th>2</th>\n",
       "      <td>3</td>\n",
       "      <td>&lt;NA&gt;</td>\n",
       "      <td>3</td>\n",
       "    </tr>\n",
       "  </tbody>\n",
       "</table>\n",
       "</div>"
      ],
      "text/plain": [
       "      x     y   out\n",
       "0     1     1     2\n",
       "1  <NA>     2  <NA>\n",
       "2     3  <NA>     3"
      ]
     },
     "execution_count": 3,
     "metadata": {},
     "output_type": "execute_result"
    }
   ],
   "source": [
    "def pandas_add(x, y):\n",
    "    if x is not pd.NA and x < 2:\n",
    "        return x + y\n",
    "    else:\n",
    "        return x\n",
    "    \n",
    "pandas_df = df.to_pandas(nullable=True)\n",
    "pandas_df['out'] = pandas_df.apply(lambda row: pandas_add(row['x'], row['y']), axis=1)\n",
    "pandas_df.head()"
   ]
  },
  {
   "cell_type": "code",
   "execution_count": 4,
   "id": "employed-offer",
   "metadata": {},
   "outputs": [],
   "source": [
    "def gpu_add(x, y, out):\n",
    "    for i, (xi, yi) in enumerate(zip(x, y)):\n",
    "        if xi < 2:\n",
    "            out[i] = xi + yi\n",
    "        else:\n",
    "            out[i] = xi"
   ]
  },
  {
   "cell_type": "markdown",
   "id": "animal-gateway",
   "metadata": {},
   "source": [
    "Problem: The null mask of `y` needs to only be considered if `x > 0`. But it"
   ]
  },
  {
   "cell_type": "code",
   "execution_count": 5,
   "id": "occupied-upgrade",
   "metadata": {},
   "outputs": [
    {
     "data": {
      "text/html": [
       "<div>\n",
       "<style scoped>\n",
       "    .dataframe tbody tr th:only-of-type {\n",
       "        vertical-align: middle;\n",
       "    }\n",
       "\n",
       "    .dataframe tbody tr th {\n",
       "        vertical-align: top;\n",
       "    }\n",
       "\n",
       "    .dataframe thead th {\n",
       "        text-align: right;\n",
       "    }\n",
       "</style>\n",
       "<table border=\"1\" class=\"dataframe\">\n",
       "  <thead>\n",
       "    <tr style=\"text-align: right;\">\n",
       "      <th></th>\n",
       "      <th>x</th>\n",
       "      <th>y</th>\n",
       "      <th>out</th>\n",
       "    </tr>\n",
       "  </thead>\n",
       "  <tbody>\n",
       "    <tr>\n",
       "      <th>0</th>\n",
       "      <td>1</td>\n",
       "      <td>1</td>\n",
       "      <td>2.0</td>\n",
       "    </tr>\n",
       "    <tr>\n",
       "      <th>1</th>\n",
       "      <td>&lt;NA&gt;</td>\n",
       "      <td>2</td>\n",
       "      <td>&lt;NA&gt;</td>\n",
       "    </tr>\n",
       "    <tr>\n",
       "      <th>2</th>\n",
       "      <td>3</td>\n",
       "      <td>&lt;NA&gt;</td>\n",
       "      <td>&lt;NA&gt;</td>\n",
       "    </tr>\n",
       "  </tbody>\n",
       "</table>\n",
       "</div>"
      ],
      "text/plain": [
       "      x     y   out\n",
       "0     1     1   2.0\n",
       "1  <NA>     2  <NA>\n",
       "2     3  <NA>  <NA>"
      ]
     },
     "execution_count": 5,
     "metadata": {},
     "output_type": "execute_result"
    }
   ],
   "source": [
    "df = df.apply_rows(gpu_add,\n",
    "              incols=['x', 'y'],\n",
    "              outcols={'out':np.float64},\n",
    "              kwargs={})\n",
    "df.head()"
   ]
  },
  {
   "cell_type": "markdown",
   "id": "western-relief",
   "metadata": {},
   "source": [
    "We also don't support comparing `cudf.NA` in any of our UDFs, in any way."
   ]
  },
  {
   "cell_type": "code",
   "execution_count": 6,
   "id": "metallic-macedonia",
   "metadata": {},
   "outputs": [],
   "source": [
    "def gpu_add_error(x, y, out):\n",
    "    for i, (xi, yi) in enumerate(zip(x, y)):\n",
    "        if xi is pd.NA:\n",
    "            return 5\n",
    "        else:\n",
    "            return xi + yi"
   ]
  },
  {
   "cell_type": "code",
   "execution_count": 7,
   "id": "scenic-graduate",
   "metadata": {},
   "outputs": [
    {
     "ename": "TypingError",
     "evalue": "Failed in nopython mode pipeline (step: nopython frontend)\n\u001b[1m\u001b[1m\u001b[1mNo implementation of function Function(<numba.cuda.compiler.DeviceFunctionTemplate object at 0x7f7cb83dca90>) found for signature:\n \n >>> gpu_add_error <CUDA device function>(array(int64, 1d, A), array(int64, 1d, A), array(float64, 1d, A))\n \nThere are 2 candidate implementations:\n\u001b[1m  - Of which 2 did not match due to:\n  Overload in function 'gpu_add_error <CUDA device function>': File: ../../../../../../ipynb/<ipython-input-6-e11feefd7c2c>: Line 1.\n    With argument(s): '(array(int64, 1d, A), array(int64, 1d, A), array(float64, 1d, A))':\u001b[0m\n\u001b[1m   Rejected as the implementation raised a specific error:\n     TypingError: Failed in nopython mode pipeline (step: nopython frontend)\n   \u001b[1m\u001b[1mUnknown attribute 'NA' of type Module(<module 'pandas' from '/home/nfs/brmiller/anaconda3/envs/cudf_dev/lib/python3.7/site-packages/pandas/__init__.py'>)\n   \u001b[1m\n   File \"<ipython-input-6-e11feefd7c2c>\", line 3:\u001b[0m\n   \u001b[1mdef gpu_add_error(x, y, out):\n       <source elided>\n       for i, (xi, yi) in enumerate(zip(x, y)):\n   \u001b[1m        if xi is pd.NA:\n   \u001b[0m        \u001b[1m^\u001b[0m\u001b[0m\n   \u001b[0m\n   \u001b[0m\u001b[1mDuring: typing of get attribute at <ipython-input-6-e11feefd7c2c> (3)\u001b[0m\n   \u001b[1m\n   File \"<ipython-input-6-e11feefd7c2c>\", line 3:\u001b[0m\n   \u001b[1mdef gpu_add_error(x, y, out):\n       <source elided>\n       for i, (xi, yi) in enumerate(zip(x, y)):\n   \u001b[1m        if xi is pd.NA:\n   \u001b[0m        \u001b[1m^\u001b[0m\u001b[0m\n\u001b[0m\n  raised from /home/nfs/brmiller/anaconda3/envs/cudf_dev/lib/python3.7/site-packages/numba/core/typeinfer.py:1071\n\u001b[0m\n\u001b[0m\u001b[1mDuring: resolving callee type: Function(<numba.cuda.compiler.DeviceFunctionTemplate object at 0x7f7cb83dca90>)\u001b[0m\n\u001b[0m\u001b[1mDuring: typing of call at <string> (8)\n\u001b[0m\n\u001b[1m\nFile \"<string>\", line 8:\u001b[0m\n\u001b[1m<source missing, REPL/exec in use?>\u001b[0m\n",
     "output_type": "error",
     "traceback": [
      "\u001b[0;31m---------------------------------------------------------------------------\u001b[0m",
      "\u001b[0;31mTypingError\u001b[0m                               Traceback (most recent call last)",
      "\u001b[0;32m<ipython-input-7-ee244a44092a>\u001b[0m in \u001b[0;36m<module>\u001b[0;34m\u001b[0m\n\u001b[1;32m      2\u001b[0m               \u001b[0mincols\u001b[0m\u001b[0;34m=\u001b[0m\u001b[0;34m[\u001b[0m\u001b[0;34m'x'\u001b[0m\u001b[0;34m,\u001b[0m \u001b[0;34m'y'\u001b[0m\u001b[0;34m]\u001b[0m\u001b[0;34m,\u001b[0m\u001b[0;34m\u001b[0m\u001b[0;34m\u001b[0m\u001b[0m\n\u001b[1;32m      3\u001b[0m               \u001b[0moutcols\u001b[0m\u001b[0;34m=\u001b[0m\u001b[0;34m{\u001b[0m\u001b[0;34m'out'\u001b[0m\u001b[0;34m:\u001b[0m\u001b[0mnp\u001b[0m\u001b[0;34m.\u001b[0m\u001b[0mfloat64\u001b[0m\u001b[0;34m}\u001b[0m\u001b[0;34m,\u001b[0m\u001b[0;34m\u001b[0m\u001b[0;34m\u001b[0m\u001b[0m\n\u001b[0;32m----> 4\u001b[0;31m               kwargs={})\n\u001b[0m\u001b[1;32m      5\u001b[0m \u001b[0mdf\u001b[0m\u001b[0;34m.\u001b[0m\u001b[0mhead\u001b[0m\u001b[0;34m(\u001b[0m\u001b[0;34m)\u001b[0m\u001b[0;34m\u001b[0m\u001b[0;34m\u001b[0m\u001b[0m\n",
      "\u001b[0;32m~/repos/cudf/python/cudf/cudf/core/dataframe.py\u001b[0m in \u001b[0;36mapply_rows\u001b[0;34m(self, func, incols, outcols, kwargs, pessimistic_nulls, cache_key)\u001b[0m\n\u001b[1;32m   4776\u001b[0m             \u001b[0mkwargs\u001b[0m\u001b[0;34m,\u001b[0m\u001b[0;34m\u001b[0m\u001b[0;34m\u001b[0m\u001b[0m\n\u001b[1;32m   4777\u001b[0m             \u001b[0mpessimistic_nulls\u001b[0m\u001b[0;34m,\u001b[0m\u001b[0;34m\u001b[0m\u001b[0;34m\u001b[0m\u001b[0m\n\u001b[0;32m-> 4778\u001b[0;31m             \u001b[0mcache_key\u001b[0m\u001b[0;34m=\u001b[0m\u001b[0mcache_key\u001b[0m\u001b[0;34m,\u001b[0m\u001b[0;34m\u001b[0m\u001b[0;34m\u001b[0m\u001b[0m\n\u001b[0m\u001b[1;32m   4779\u001b[0m         )\n\u001b[1;32m   4780\u001b[0m \u001b[0;34m\u001b[0m\u001b[0m\n",
      "\u001b[0;32m~/repos/cudf/python/cudf/cudf/utils/applyutils.py\u001b[0m in \u001b[0;36mapply_rows\u001b[0;34m(df, func, incols, outcols, kwargs, pessimistic_nulls, cache_key)\u001b[0m\n\u001b[1;32m     83\u001b[0m         \u001b[0mfunc\u001b[0m\u001b[0;34m,\u001b[0m \u001b[0mincols\u001b[0m\u001b[0;34m,\u001b[0m \u001b[0moutcols\u001b[0m\u001b[0;34m,\u001b[0m \u001b[0mkwargs\u001b[0m\u001b[0;34m,\u001b[0m \u001b[0mpessimistic_nulls\u001b[0m\u001b[0;34m,\u001b[0m \u001b[0mcache_key\u001b[0m\u001b[0;34m=\u001b[0m\u001b[0mcache_key\u001b[0m\u001b[0;34m\u001b[0m\u001b[0;34m\u001b[0m\u001b[0m\n\u001b[1;32m     84\u001b[0m     )\n\u001b[0;32m---> 85\u001b[0;31m     \u001b[0;32mreturn\u001b[0m \u001b[0mapplyrows\u001b[0m\u001b[0;34m.\u001b[0m\u001b[0mrun\u001b[0m\u001b[0;34m(\u001b[0m\u001b[0mdf\u001b[0m\u001b[0;34m)\u001b[0m\u001b[0;34m\u001b[0m\u001b[0;34m\u001b[0m\u001b[0m\n\u001b[0m\u001b[1;32m     86\u001b[0m \u001b[0;34m\u001b[0m\u001b[0m\n\u001b[1;32m     87\u001b[0m \u001b[0;34m\u001b[0m\u001b[0m\n",
      "\u001b[0;32m~/repos/cudf/python/cudf/cudf/utils/applyutils.py\u001b[0m in \u001b[0;36mrun\u001b[0;34m(self, df, **launch_params)\u001b[0m\n\u001b[1;32m    168\u001b[0m         \u001b[0mbound\u001b[0m \u001b[0;34m=\u001b[0m \u001b[0mself\u001b[0m\u001b[0;34m.\u001b[0m\u001b[0msig\u001b[0m\u001b[0;34m.\u001b[0m\u001b[0mbind\u001b[0m\u001b[0;34m(\u001b[0m\u001b[0;34m**\u001b[0m\u001b[0margs\u001b[0m\u001b[0;34m)\u001b[0m\u001b[0;34m\u001b[0m\u001b[0;34m\u001b[0m\u001b[0m\n\u001b[1;32m    169\u001b[0m         \u001b[0;31m# Launch kernel\u001b[0m\u001b[0;34m\u001b[0m\u001b[0;34m\u001b[0m\u001b[0;34m\u001b[0m\u001b[0m\n\u001b[0;32m--> 170\u001b[0;31m         \u001b[0mself\u001b[0m\u001b[0;34m.\u001b[0m\u001b[0mlaunch_kernel\u001b[0m\u001b[0;34m(\u001b[0m\u001b[0mdf\u001b[0m\u001b[0;34m,\u001b[0m \u001b[0mbound\u001b[0m\u001b[0;34m.\u001b[0m\u001b[0margs\u001b[0m\u001b[0;34m,\u001b[0m \u001b[0;34m**\u001b[0m\u001b[0mlaunch_params\u001b[0m\u001b[0;34m)\u001b[0m\u001b[0;34m\u001b[0m\u001b[0;34m\u001b[0m\u001b[0m\n\u001b[0m\u001b[1;32m    171\u001b[0m         \u001b[0;31m# Prepare pessimistic nullmask\u001b[0m\u001b[0;34m\u001b[0m\u001b[0;34m\u001b[0m\u001b[0;34m\u001b[0m\u001b[0m\n\u001b[1;32m    172\u001b[0m         \u001b[0;32mif\u001b[0m \u001b[0mself\u001b[0m\u001b[0;34m.\u001b[0m\u001b[0mpessimistic_nulls\u001b[0m\u001b[0;34m:\u001b[0m\u001b[0;34m\u001b[0m\u001b[0;34m\u001b[0m\u001b[0m\n",
      "\u001b[0;32m~/repos/cudf/python/cudf/cudf/utils/applyutils.py\u001b[0m in \u001b[0;36mlaunch_kernel\u001b[0;34m(self, df, args)\u001b[0m\n\u001b[1;32m    195\u001b[0m \u001b[0;34m\u001b[0m\u001b[0m\n\u001b[1;32m    196\u001b[0m     \u001b[0;32mdef\u001b[0m \u001b[0mlaunch_kernel\u001b[0m\u001b[0;34m(\u001b[0m\u001b[0mself\u001b[0m\u001b[0;34m,\u001b[0m \u001b[0mdf\u001b[0m\u001b[0;34m,\u001b[0m \u001b[0margs\u001b[0m\u001b[0;34m)\u001b[0m\u001b[0;34m:\u001b[0m\u001b[0;34m\u001b[0m\u001b[0;34m\u001b[0m\u001b[0m\n\u001b[0;32m--> 197\u001b[0;31m         \u001b[0mself\u001b[0m\u001b[0;34m.\u001b[0m\u001b[0mkernel\u001b[0m\u001b[0;34m.\u001b[0m\u001b[0mforall\u001b[0m\u001b[0;34m(\u001b[0m\u001b[0mlen\u001b[0m\u001b[0;34m(\u001b[0m\u001b[0mdf\u001b[0m\u001b[0;34m)\u001b[0m\u001b[0;34m)\u001b[0m\u001b[0;34m(\u001b[0m\u001b[0;34m*\u001b[0m\u001b[0margs\u001b[0m\u001b[0;34m)\u001b[0m\u001b[0;34m\u001b[0m\u001b[0;34m\u001b[0m\u001b[0m\n\u001b[0m\u001b[1;32m    198\u001b[0m \u001b[0;34m\u001b[0m\u001b[0m\n\u001b[1;32m    199\u001b[0m \u001b[0;34m\u001b[0m\u001b[0m\n",
      "\u001b[0;32m~/anaconda3/envs/cudf_dev/lib/python3.7/site-packages/numba/cuda/compiler.py\u001b[0m in \u001b[0;36m__call__\u001b[0;34m(self, *args)\u001b[0m\n\u001b[1;32m    370\u001b[0m             \u001b[0mkernel\u001b[0m \u001b[0;34m=\u001b[0m \u001b[0mself\u001b[0m\u001b[0;34m.\u001b[0m\u001b[0mkernel\u001b[0m\u001b[0;34m\u001b[0m\u001b[0;34m\u001b[0m\u001b[0m\n\u001b[1;32m    371\u001b[0m         \u001b[0;32melse\u001b[0m\u001b[0;34m:\u001b[0m\u001b[0;34m\u001b[0m\u001b[0;34m\u001b[0m\u001b[0m\n\u001b[0;32m--> 372\u001b[0;31m             \u001b[0mkernel\u001b[0m \u001b[0;34m=\u001b[0m \u001b[0mself\u001b[0m\u001b[0;34m.\u001b[0m\u001b[0mkernel\u001b[0m\u001b[0;34m.\u001b[0m\u001b[0mspecialize\u001b[0m\u001b[0;34m(\u001b[0m\u001b[0;34m*\u001b[0m\u001b[0margs\u001b[0m\u001b[0;34m)\u001b[0m\u001b[0;34m\u001b[0m\u001b[0;34m\u001b[0m\u001b[0m\n\u001b[0m\u001b[1;32m    373\u001b[0m         \u001b[0mblockdim\u001b[0m \u001b[0;34m=\u001b[0m \u001b[0mself\u001b[0m\u001b[0;34m.\u001b[0m\u001b[0m_compute_thread_per_block\u001b[0m\u001b[0;34m(\u001b[0m\u001b[0mkernel\u001b[0m\u001b[0;34m)\u001b[0m\u001b[0;34m\u001b[0m\u001b[0;34m\u001b[0m\u001b[0m\n\u001b[1;32m    374\u001b[0m         \u001b[0mgriddim\u001b[0m \u001b[0;34m=\u001b[0m \u001b[0;34m(\u001b[0m\u001b[0mself\u001b[0m\u001b[0;34m.\u001b[0m\u001b[0mntasks\u001b[0m \u001b[0;34m+\u001b[0m \u001b[0mblockdim\u001b[0m \u001b[0;34m-\u001b[0m \u001b[0;36m1\u001b[0m\u001b[0;34m)\u001b[0m \u001b[0;34m//\u001b[0m \u001b[0mblockdim\u001b[0m\u001b[0;34m\u001b[0m\u001b[0;34m\u001b[0m\u001b[0m\n",
      "\u001b[0;32m~/anaconda3/envs/cudf_dev/lib/python3.7/site-packages/numba/cuda/compiler.py\u001b[0m in \u001b[0;36mspecialize\u001b[0;34m(self, *args)\u001b[0m\n\u001b[1;32m    897\u001b[0m         \u001b[0mtargetoptions\u001b[0m\u001b[0;34m[\u001b[0m\u001b[0;34m'link'\u001b[0m\u001b[0;34m]\u001b[0m \u001b[0;34m=\u001b[0m \u001b[0mself\u001b[0m\u001b[0;34m.\u001b[0m\u001b[0mlink\u001b[0m\u001b[0;34m\u001b[0m\u001b[0;34m\u001b[0m\u001b[0m\n\u001b[1;32m    898\u001b[0m         specialization = Dispatcher(self.py_func, [types.void(*argtypes)],\n\u001b[0;32m--> 899\u001b[0;31m                                     self._bind, targetoptions)\n\u001b[0m\u001b[1;32m    900\u001b[0m         \u001b[0mself\u001b[0m\u001b[0;34m.\u001b[0m\u001b[0mspecializations\u001b[0m\u001b[0;34m[\u001b[0m\u001b[0mcc\u001b[0m\u001b[0;34m,\u001b[0m \u001b[0margtypes\u001b[0m\u001b[0;34m]\u001b[0m \u001b[0;34m=\u001b[0m \u001b[0mspecialization\u001b[0m\u001b[0;34m\u001b[0m\u001b[0;34m\u001b[0m\u001b[0m\n\u001b[1;32m    901\u001b[0m         \u001b[0;32mreturn\u001b[0m \u001b[0mspecialization\u001b[0m\u001b[0;34m\u001b[0m\u001b[0;34m\u001b[0m\u001b[0m\n",
      "\u001b[0;32m~/anaconda3/envs/cudf_dev/lib/python3.7/site-packages/numba/cuda/compiler.py\u001b[0m in \u001b[0;36m__init__\u001b[0;34m(self, func, sigs, bind, targetoptions)\u001b[0m\n\u001b[1;32m    809\u001b[0m             \u001b[0;32mif\u001b[0m \u001b[0mlen\u001b[0m\u001b[0;34m(\u001b[0m\u001b[0msigs\u001b[0m\u001b[0;34m)\u001b[0m \u001b[0;34m>\u001b[0m \u001b[0;36m1\u001b[0m\u001b[0;34m:\u001b[0m\u001b[0;34m\u001b[0m\u001b[0;34m\u001b[0m\u001b[0m\n\u001b[1;32m    810\u001b[0m                 \u001b[0;32mraise\u001b[0m \u001b[0mTypeError\u001b[0m\u001b[0;34m(\u001b[0m\u001b[0;34m\"Only one signature supported at present\"\u001b[0m\u001b[0;34m)\u001b[0m\u001b[0;34m\u001b[0m\u001b[0;34m\u001b[0m\u001b[0m\n\u001b[0;32m--> 811\u001b[0;31m             \u001b[0mself\u001b[0m\u001b[0;34m.\u001b[0m\u001b[0mcompile\u001b[0m\u001b[0;34m(\u001b[0m\u001b[0msigs\u001b[0m\u001b[0;34m[\u001b[0m\u001b[0;36m0\u001b[0m\u001b[0;34m]\u001b[0m\u001b[0;34m)\u001b[0m\u001b[0;34m\u001b[0m\u001b[0;34m\u001b[0m\u001b[0m\n\u001b[0m\u001b[1;32m    812\u001b[0m             \u001b[0mself\u001b[0m\u001b[0;34m.\u001b[0m\u001b[0m_can_compile\u001b[0m \u001b[0;34m=\u001b[0m \u001b[0;32mFalse\u001b[0m\u001b[0;34m\u001b[0m\u001b[0;34m\u001b[0m\u001b[0m\n\u001b[1;32m    813\u001b[0m \u001b[0;34m\u001b[0m\u001b[0m\n",
      "\u001b[0;32m~/anaconda3/envs/cudf_dev/lib/python3.7/site-packages/numba/cuda/compiler.py\u001b[0m in \u001b[0;36mcompile\u001b[0;34m(self, sig)\u001b[0m\n\u001b[1;32m    947\u001b[0m             kernel = compile_kernel(self.py_func, argtypes,\n\u001b[1;32m    948\u001b[0m                                     \u001b[0mlink\u001b[0m\u001b[0;34m=\u001b[0m\u001b[0mself\u001b[0m\u001b[0;34m.\u001b[0m\u001b[0mlink\u001b[0m\u001b[0;34m,\u001b[0m\u001b[0;34m\u001b[0m\u001b[0;34m\u001b[0m\u001b[0m\n\u001b[0;32m--> 949\u001b[0;31m                                     **self.targetoptions)\n\u001b[0m\u001b[1;32m    950\u001b[0m             \u001b[0mself\u001b[0m\u001b[0;34m.\u001b[0m\u001b[0mdefinitions\u001b[0m\u001b[0;34m[\u001b[0m\u001b[0;34m(\u001b[0m\u001b[0mcc\u001b[0m\u001b[0;34m,\u001b[0m \u001b[0margtypes\u001b[0m\u001b[0;34m)\u001b[0m\u001b[0;34m]\u001b[0m \u001b[0;34m=\u001b[0m \u001b[0mkernel\u001b[0m\u001b[0;34m\u001b[0m\u001b[0;34m\u001b[0m\u001b[0m\n\u001b[1;32m    951\u001b[0m             \u001b[0;32mif\u001b[0m \u001b[0mself\u001b[0m\u001b[0;34m.\u001b[0m\u001b[0m_bind\u001b[0m\u001b[0;34m:\u001b[0m\u001b[0;34m\u001b[0m\u001b[0;34m\u001b[0m\u001b[0m\n",
      "\u001b[0;32m~/anaconda3/envs/cudf_dev/lib/python3.7/site-packages/numba/core/compiler_lock.py\u001b[0m in \u001b[0;36m_acquire_compile_lock\u001b[0;34m(*args, **kwargs)\u001b[0m\n\u001b[1;32m     30\u001b[0m         \u001b[0;32mdef\u001b[0m \u001b[0m_acquire_compile_lock\u001b[0m\u001b[0;34m(\u001b[0m\u001b[0;34m*\u001b[0m\u001b[0margs\u001b[0m\u001b[0;34m,\u001b[0m \u001b[0;34m**\u001b[0m\u001b[0mkwargs\u001b[0m\u001b[0;34m)\u001b[0m\u001b[0;34m:\u001b[0m\u001b[0;34m\u001b[0m\u001b[0;34m\u001b[0m\u001b[0m\n\u001b[1;32m     31\u001b[0m             \u001b[0;32mwith\u001b[0m \u001b[0mself\u001b[0m\u001b[0;34m:\u001b[0m\u001b[0;34m\u001b[0m\u001b[0;34m\u001b[0m\u001b[0m\n\u001b[0;32m---> 32\u001b[0;31m                 \u001b[0;32mreturn\u001b[0m \u001b[0mfunc\u001b[0m\u001b[0;34m(\u001b[0m\u001b[0;34m*\u001b[0m\u001b[0margs\u001b[0m\u001b[0;34m,\u001b[0m \u001b[0;34m**\u001b[0m\u001b[0mkwargs\u001b[0m\u001b[0;34m)\u001b[0m\u001b[0;34m\u001b[0m\u001b[0;34m\u001b[0m\u001b[0m\n\u001b[0m\u001b[1;32m     33\u001b[0m         \u001b[0;32mreturn\u001b[0m \u001b[0m_acquire_compile_lock\u001b[0m\u001b[0;34m\u001b[0m\u001b[0;34m\u001b[0m\u001b[0m\n\u001b[1;32m     34\u001b[0m \u001b[0;34m\u001b[0m\u001b[0m\n",
      "\u001b[0;32m~/anaconda3/envs/cudf_dev/lib/python3.7/site-packages/numba/cuda/compiler.py\u001b[0m in \u001b[0;36mcompile_kernel\u001b[0;34m(pyfunc, args, link, debug, inline, fastmath, extensions, max_registers, opt)\u001b[0m\n\u001b[1;32m     55\u001b[0m def compile_kernel(pyfunc, args, link, debug=False, inline=False,\n\u001b[1;32m     56\u001b[0m                    fastmath=False, extensions=[], max_registers=None, opt=True):\n\u001b[0;32m---> 57\u001b[0;31m     \u001b[0mcres\u001b[0m \u001b[0;34m=\u001b[0m \u001b[0mcompile_cuda\u001b[0m\u001b[0;34m(\u001b[0m\u001b[0mpyfunc\u001b[0m\u001b[0;34m,\u001b[0m \u001b[0mtypes\u001b[0m\u001b[0;34m.\u001b[0m\u001b[0mvoid\u001b[0m\u001b[0;34m,\u001b[0m \u001b[0margs\u001b[0m\u001b[0;34m,\u001b[0m \u001b[0mdebug\u001b[0m\u001b[0;34m=\u001b[0m\u001b[0mdebug\u001b[0m\u001b[0;34m,\u001b[0m \u001b[0minline\u001b[0m\u001b[0;34m=\u001b[0m\u001b[0minline\u001b[0m\u001b[0;34m)\u001b[0m\u001b[0;34m\u001b[0m\u001b[0;34m\u001b[0m\u001b[0m\n\u001b[0m\u001b[1;32m     58\u001b[0m     \u001b[0mfname\u001b[0m \u001b[0;34m=\u001b[0m \u001b[0mcres\u001b[0m\u001b[0;34m.\u001b[0m\u001b[0mfndesc\u001b[0m\u001b[0;34m.\u001b[0m\u001b[0mllvm_func_name\u001b[0m\u001b[0;34m\u001b[0m\u001b[0;34m\u001b[0m\u001b[0m\n\u001b[1;32m     59\u001b[0m     lib, kernel = cres.target_context.prepare_cuda_kernel(cres.library, fname,\n",
      "\u001b[0;32m~/anaconda3/envs/cudf_dev/lib/python3.7/site-packages/numba/core/compiler_lock.py\u001b[0m in \u001b[0;36m_acquire_compile_lock\u001b[0;34m(*args, **kwargs)\u001b[0m\n\u001b[1;32m     30\u001b[0m         \u001b[0;32mdef\u001b[0m \u001b[0m_acquire_compile_lock\u001b[0m\u001b[0;34m(\u001b[0m\u001b[0;34m*\u001b[0m\u001b[0margs\u001b[0m\u001b[0;34m,\u001b[0m \u001b[0;34m**\u001b[0m\u001b[0mkwargs\u001b[0m\u001b[0;34m)\u001b[0m\u001b[0;34m:\u001b[0m\u001b[0;34m\u001b[0m\u001b[0;34m\u001b[0m\u001b[0m\n\u001b[1;32m     31\u001b[0m             \u001b[0;32mwith\u001b[0m \u001b[0mself\u001b[0m\u001b[0;34m:\u001b[0m\u001b[0;34m\u001b[0m\u001b[0;34m\u001b[0m\u001b[0m\n\u001b[0;32m---> 32\u001b[0;31m                 \u001b[0;32mreturn\u001b[0m \u001b[0mfunc\u001b[0m\u001b[0;34m(\u001b[0m\u001b[0;34m*\u001b[0m\u001b[0margs\u001b[0m\u001b[0;34m,\u001b[0m \u001b[0;34m**\u001b[0m\u001b[0mkwargs\u001b[0m\u001b[0;34m)\u001b[0m\u001b[0;34m\u001b[0m\u001b[0;34m\u001b[0m\u001b[0m\n\u001b[0m\u001b[1;32m     33\u001b[0m         \u001b[0;32mreturn\u001b[0m \u001b[0m_acquire_compile_lock\u001b[0m\u001b[0;34m\u001b[0m\u001b[0;34m\u001b[0m\u001b[0m\n\u001b[1;32m     34\u001b[0m \u001b[0;34m\u001b[0m\u001b[0m\n",
      "\u001b[0;32m~/anaconda3/envs/cudf_dev/lib/python3.7/site-packages/numba/cuda/compiler.py\u001b[0m in \u001b[0;36mcompile_cuda\u001b[0;34m(pyfunc, return_type, args, debug, inline)\u001b[0m\n\u001b[1;32m     44\u001b[0m                                   \u001b[0mreturn_type\u001b[0m\u001b[0;34m=\u001b[0m\u001b[0mreturn_type\u001b[0m\u001b[0;34m,\u001b[0m\u001b[0;34m\u001b[0m\u001b[0;34m\u001b[0m\u001b[0m\n\u001b[1;32m     45\u001b[0m                                   \u001b[0mflags\u001b[0m\u001b[0;34m=\u001b[0m\u001b[0mflags\u001b[0m\u001b[0;34m,\u001b[0m\u001b[0;34m\u001b[0m\u001b[0;34m\u001b[0m\u001b[0m\n\u001b[0;32m---> 46\u001b[0;31m                                   locals={})\n\u001b[0m\u001b[1;32m     47\u001b[0m \u001b[0;34m\u001b[0m\u001b[0m\n\u001b[1;32m     48\u001b[0m     \u001b[0mlibrary\u001b[0m \u001b[0;34m=\u001b[0m \u001b[0mcres\u001b[0m\u001b[0;34m.\u001b[0m\u001b[0mlibrary\u001b[0m\u001b[0;34m\u001b[0m\u001b[0;34m\u001b[0m\u001b[0m\n",
      "\u001b[0;32m~/anaconda3/envs/cudf_dev/lib/python3.7/site-packages/numba/core/compiler.py\u001b[0m in \u001b[0;36mcompile_extra\u001b[0;34m(typingctx, targetctx, func, args, return_type, flags, locals, library, pipeline_class)\u001b[0m\n\u001b[1;32m    600\u001b[0m     pipeline = pipeline_class(typingctx, targetctx, library,\n\u001b[1;32m    601\u001b[0m                               args, return_type, flags, locals)\n\u001b[0;32m--> 602\u001b[0;31m     \u001b[0;32mreturn\u001b[0m \u001b[0mpipeline\u001b[0m\u001b[0;34m.\u001b[0m\u001b[0mcompile_extra\u001b[0m\u001b[0;34m(\u001b[0m\u001b[0mfunc\u001b[0m\u001b[0;34m)\u001b[0m\u001b[0;34m\u001b[0m\u001b[0;34m\u001b[0m\u001b[0m\n\u001b[0m\u001b[1;32m    603\u001b[0m \u001b[0;34m\u001b[0m\u001b[0m\n\u001b[1;32m    604\u001b[0m \u001b[0;34m\u001b[0m\u001b[0m\n",
      "\u001b[0;32m~/anaconda3/envs/cudf_dev/lib/python3.7/site-packages/numba/core/compiler.py\u001b[0m in \u001b[0;36mcompile_extra\u001b[0;34m(self, func)\u001b[0m\n\u001b[1;32m    350\u001b[0m         \u001b[0mself\u001b[0m\u001b[0;34m.\u001b[0m\u001b[0mstate\u001b[0m\u001b[0;34m.\u001b[0m\u001b[0mlifted\u001b[0m \u001b[0;34m=\u001b[0m \u001b[0;34m(\u001b[0m\u001b[0;34m)\u001b[0m\u001b[0;34m\u001b[0m\u001b[0;34m\u001b[0m\u001b[0m\n\u001b[1;32m    351\u001b[0m         \u001b[0mself\u001b[0m\u001b[0;34m.\u001b[0m\u001b[0mstate\u001b[0m\u001b[0;34m.\u001b[0m\u001b[0mlifted_from\u001b[0m \u001b[0;34m=\u001b[0m \u001b[0;32mNone\u001b[0m\u001b[0;34m\u001b[0m\u001b[0;34m\u001b[0m\u001b[0m\n\u001b[0;32m--> 352\u001b[0;31m         \u001b[0;32mreturn\u001b[0m \u001b[0mself\u001b[0m\u001b[0;34m.\u001b[0m\u001b[0m_compile_bytecode\u001b[0m\u001b[0;34m(\u001b[0m\u001b[0;34m)\u001b[0m\u001b[0;34m\u001b[0m\u001b[0;34m\u001b[0m\u001b[0m\n\u001b[0m\u001b[1;32m    353\u001b[0m \u001b[0;34m\u001b[0m\u001b[0m\n\u001b[1;32m    354\u001b[0m     \u001b[0;32mdef\u001b[0m \u001b[0mcompile_ir\u001b[0m\u001b[0;34m(\u001b[0m\u001b[0mself\u001b[0m\u001b[0;34m,\u001b[0m \u001b[0mfunc_ir\u001b[0m\u001b[0;34m,\u001b[0m \u001b[0mlifted\u001b[0m\u001b[0;34m=\u001b[0m\u001b[0;34m(\u001b[0m\u001b[0;34m)\u001b[0m\u001b[0;34m,\u001b[0m \u001b[0mlifted_from\u001b[0m\u001b[0;34m=\u001b[0m\u001b[0;32mNone\u001b[0m\u001b[0;34m)\u001b[0m\u001b[0;34m:\u001b[0m\u001b[0;34m\u001b[0m\u001b[0;34m\u001b[0m\u001b[0m\n",
      "\u001b[0;32m~/anaconda3/envs/cudf_dev/lib/python3.7/site-packages/numba/core/compiler.py\u001b[0m in \u001b[0;36m_compile_bytecode\u001b[0;34m(self)\u001b[0m\n\u001b[1;32m    412\u001b[0m         \"\"\"\n\u001b[1;32m    413\u001b[0m         \u001b[0;32massert\u001b[0m \u001b[0mself\u001b[0m\u001b[0;34m.\u001b[0m\u001b[0mstate\u001b[0m\u001b[0;34m.\u001b[0m\u001b[0mfunc_ir\u001b[0m \u001b[0;32mis\u001b[0m \u001b[0;32mNone\u001b[0m\u001b[0;34m\u001b[0m\u001b[0;34m\u001b[0m\u001b[0m\n\u001b[0;32m--> 414\u001b[0;31m         \u001b[0;32mreturn\u001b[0m \u001b[0mself\u001b[0m\u001b[0;34m.\u001b[0m\u001b[0m_compile_core\u001b[0m\u001b[0;34m(\u001b[0m\u001b[0;34m)\u001b[0m\u001b[0;34m\u001b[0m\u001b[0;34m\u001b[0m\u001b[0m\n\u001b[0m\u001b[1;32m    415\u001b[0m \u001b[0;34m\u001b[0m\u001b[0m\n\u001b[1;32m    416\u001b[0m     \u001b[0;32mdef\u001b[0m \u001b[0m_compile_ir\u001b[0m\u001b[0;34m(\u001b[0m\u001b[0mself\u001b[0m\u001b[0;34m)\u001b[0m\u001b[0;34m:\u001b[0m\u001b[0;34m\u001b[0m\u001b[0;34m\u001b[0m\u001b[0m\n",
      "\u001b[0;32m~/anaconda3/envs/cudf_dev/lib/python3.7/site-packages/numba/core/compiler.py\u001b[0m in \u001b[0;36m_compile_core\u001b[0;34m(self)\u001b[0m\n\u001b[1;32m    392\u001b[0m                 \u001b[0mself\u001b[0m\u001b[0;34m.\u001b[0m\u001b[0mstate\u001b[0m\u001b[0;34m.\u001b[0m\u001b[0mstatus\u001b[0m\u001b[0;34m.\u001b[0m\u001b[0mfail_reason\u001b[0m \u001b[0;34m=\u001b[0m \u001b[0me\u001b[0m\u001b[0;34m\u001b[0m\u001b[0;34m\u001b[0m\u001b[0m\n\u001b[1;32m    393\u001b[0m                 \u001b[0;32mif\u001b[0m \u001b[0mis_final_pipeline\u001b[0m\u001b[0;34m:\u001b[0m\u001b[0;34m\u001b[0m\u001b[0;34m\u001b[0m\u001b[0m\n\u001b[0;32m--> 394\u001b[0;31m                     \u001b[0;32mraise\u001b[0m \u001b[0me\u001b[0m\u001b[0;34m\u001b[0m\u001b[0;34m\u001b[0m\u001b[0m\n\u001b[0m\u001b[1;32m    395\u001b[0m         \u001b[0;32melse\u001b[0m\u001b[0;34m:\u001b[0m\u001b[0;34m\u001b[0m\u001b[0;34m\u001b[0m\u001b[0m\n\u001b[1;32m    396\u001b[0m             \u001b[0;32mraise\u001b[0m \u001b[0mCompilerError\u001b[0m\u001b[0;34m(\u001b[0m\u001b[0;34m\"All available pipelines exhausted\"\u001b[0m\u001b[0;34m)\u001b[0m\u001b[0;34m\u001b[0m\u001b[0;34m\u001b[0m\u001b[0m\n",
      "\u001b[0;32m~/anaconda3/envs/cudf_dev/lib/python3.7/site-packages/numba/core/compiler.py\u001b[0m in \u001b[0;36m_compile_core\u001b[0;34m(self)\u001b[0m\n\u001b[1;32m    383\u001b[0m             \u001b[0mres\u001b[0m \u001b[0;34m=\u001b[0m \u001b[0;32mNone\u001b[0m\u001b[0;34m\u001b[0m\u001b[0;34m\u001b[0m\u001b[0m\n\u001b[1;32m    384\u001b[0m             \u001b[0;32mtry\u001b[0m\u001b[0;34m:\u001b[0m\u001b[0;34m\u001b[0m\u001b[0;34m\u001b[0m\u001b[0m\n\u001b[0;32m--> 385\u001b[0;31m                 \u001b[0mpm\u001b[0m\u001b[0;34m.\u001b[0m\u001b[0mrun\u001b[0m\u001b[0;34m(\u001b[0m\u001b[0mself\u001b[0m\u001b[0;34m.\u001b[0m\u001b[0mstate\u001b[0m\u001b[0;34m)\u001b[0m\u001b[0;34m\u001b[0m\u001b[0;34m\u001b[0m\u001b[0m\n\u001b[0m\u001b[1;32m    386\u001b[0m                 \u001b[0;32mif\u001b[0m \u001b[0mself\u001b[0m\u001b[0;34m.\u001b[0m\u001b[0mstate\u001b[0m\u001b[0;34m.\u001b[0m\u001b[0mcr\u001b[0m \u001b[0;32mis\u001b[0m \u001b[0;32mnot\u001b[0m \u001b[0;32mNone\u001b[0m\u001b[0;34m:\u001b[0m\u001b[0;34m\u001b[0m\u001b[0;34m\u001b[0m\u001b[0m\n\u001b[1;32m    387\u001b[0m                     \u001b[0;32mbreak\u001b[0m\u001b[0;34m\u001b[0m\u001b[0;34m\u001b[0m\u001b[0m\n",
      "\u001b[0;32m~/anaconda3/envs/cudf_dev/lib/python3.7/site-packages/numba/core/compiler_machinery.py\u001b[0m in \u001b[0;36mrun\u001b[0;34m(self, state)\u001b[0m\n\u001b[1;32m    337\u001b[0m                     \u001b[0;34m(\u001b[0m\u001b[0mself\u001b[0m\u001b[0;34m.\u001b[0m\u001b[0mpipeline_name\u001b[0m\u001b[0;34m,\u001b[0m \u001b[0mpass_desc\u001b[0m\u001b[0;34m)\u001b[0m\u001b[0;34m\u001b[0m\u001b[0;34m\u001b[0m\u001b[0m\n\u001b[1;32m    338\u001b[0m                 \u001b[0mpatched_exception\u001b[0m \u001b[0;34m=\u001b[0m \u001b[0mself\u001b[0m\u001b[0;34m.\u001b[0m\u001b[0m_patch_error\u001b[0m\u001b[0;34m(\u001b[0m\u001b[0mmsg\u001b[0m\u001b[0;34m,\u001b[0m \u001b[0me\u001b[0m\u001b[0;34m)\u001b[0m\u001b[0;34m\u001b[0m\u001b[0;34m\u001b[0m\u001b[0m\n\u001b[0;32m--> 339\u001b[0;31m                 \u001b[0;32mraise\u001b[0m \u001b[0mpatched_exception\u001b[0m\u001b[0;34m\u001b[0m\u001b[0;34m\u001b[0m\u001b[0m\n\u001b[0m\u001b[1;32m    340\u001b[0m \u001b[0;34m\u001b[0m\u001b[0m\n\u001b[1;32m    341\u001b[0m     \u001b[0;32mdef\u001b[0m \u001b[0mdependency_analysis\u001b[0m\u001b[0;34m(\u001b[0m\u001b[0mself\u001b[0m\u001b[0;34m)\u001b[0m\u001b[0;34m:\u001b[0m\u001b[0;34m\u001b[0m\u001b[0;34m\u001b[0m\u001b[0m\n",
      "\u001b[0;32m~/anaconda3/envs/cudf_dev/lib/python3.7/site-packages/numba/core/compiler_machinery.py\u001b[0m in \u001b[0;36mrun\u001b[0;34m(self, state)\u001b[0m\n\u001b[1;32m    328\u001b[0m                 \u001b[0mpass_inst\u001b[0m \u001b[0;34m=\u001b[0m \u001b[0m_pass_registry\u001b[0m\u001b[0;34m.\u001b[0m\u001b[0mget\u001b[0m\u001b[0;34m(\u001b[0m\u001b[0mpss\u001b[0m\u001b[0;34m)\u001b[0m\u001b[0;34m.\u001b[0m\u001b[0mpass_inst\u001b[0m\u001b[0;34m\u001b[0m\u001b[0;34m\u001b[0m\u001b[0m\n\u001b[1;32m    329\u001b[0m                 \u001b[0;32mif\u001b[0m \u001b[0misinstance\u001b[0m\u001b[0;34m(\u001b[0m\u001b[0mpass_inst\u001b[0m\u001b[0;34m,\u001b[0m \u001b[0mCompilerPass\u001b[0m\u001b[0;34m)\u001b[0m\u001b[0;34m:\u001b[0m\u001b[0;34m\u001b[0m\u001b[0;34m\u001b[0m\u001b[0m\n\u001b[0;32m--> 330\u001b[0;31m                     \u001b[0mself\u001b[0m\u001b[0;34m.\u001b[0m\u001b[0m_runPass\u001b[0m\u001b[0;34m(\u001b[0m\u001b[0midx\u001b[0m\u001b[0;34m,\u001b[0m \u001b[0mpass_inst\u001b[0m\u001b[0;34m,\u001b[0m \u001b[0mstate\u001b[0m\u001b[0;34m)\u001b[0m\u001b[0;34m\u001b[0m\u001b[0;34m\u001b[0m\u001b[0m\n\u001b[0m\u001b[1;32m    331\u001b[0m                 \u001b[0;32melse\u001b[0m\u001b[0;34m:\u001b[0m\u001b[0;34m\u001b[0m\u001b[0;34m\u001b[0m\u001b[0m\n\u001b[1;32m    332\u001b[0m                     \u001b[0;32mraise\u001b[0m \u001b[0mBaseException\u001b[0m\u001b[0;34m(\u001b[0m\u001b[0;34m\"Legacy pass in use\"\u001b[0m\u001b[0;34m)\u001b[0m\u001b[0;34m\u001b[0m\u001b[0;34m\u001b[0m\u001b[0m\n",
      "\u001b[0;32m~/anaconda3/envs/cudf_dev/lib/python3.7/site-packages/numba/core/compiler_lock.py\u001b[0m in \u001b[0;36m_acquire_compile_lock\u001b[0;34m(*args, **kwargs)\u001b[0m\n\u001b[1;32m     30\u001b[0m         \u001b[0;32mdef\u001b[0m \u001b[0m_acquire_compile_lock\u001b[0m\u001b[0;34m(\u001b[0m\u001b[0;34m*\u001b[0m\u001b[0margs\u001b[0m\u001b[0;34m,\u001b[0m \u001b[0;34m**\u001b[0m\u001b[0mkwargs\u001b[0m\u001b[0;34m)\u001b[0m\u001b[0;34m:\u001b[0m\u001b[0;34m\u001b[0m\u001b[0;34m\u001b[0m\u001b[0m\n\u001b[1;32m     31\u001b[0m             \u001b[0;32mwith\u001b[0m \u001b[0mself\u001b[0m\u001b[0;34m:\u001b[0m\u001b[0;34m\u001b[0m\u001b[0;34m\u001b[0m\u001b[0m\n\u001b[0;32m---> 32\u001b[0;31m                 \u001b[0;32mreturn\u001b[0m \u001b[0mfunc\u001b[0m\u001b[0;34m(\u001b[0m\u001b[0;34m*\u001b[0m\u001b[0margs\u001b[0m\u001b[0;34m,\u001b[0m \u001b[0;34m**\u001b[0m\u001b[0mkwargs\u001b[0m\u001b[0;34m)\u001b[0m\u001b[0;34m\u001b[0m\u001b[0;34m\u001b[0m\u001b[0m\n\u001b[0m\u001b[1;32m     33\u001b[0m         \u001b[0;32mreturn\u001b[0m \u001b[0m_acquire_compile_lock\u001b[0m\u001b[0;34m\u001b[0m\u001b[0;34m\u001b[0m\u001b[0m\n\u001b[1;32m     34\u001b[0m \u001b[0;34m\u001b[0m\u001b[0m\n",
      "\u001b[0;32m~/anaconda3/envs/cudf_dev/lib/python3.7/site-packages/numba/core/compiler_machinery.py\u001b[0m in \u001b[0;36m_runPass\u001b[0;34m(self, index, pss, internal_state)\u001b[0m\n\u001b[1;32m    287\u001b[0m             \u001b[0mmutated\u001b[0m \u001b[0;34m|=\u001b[0m \u001b[0mcheck\u001b[0m\u001b[0;34m(\u001b[0m\u001b[0mpss\u001b[0m\u001b[0;34m.\u001b[0m\u001b[0mrun_initialization\u001b[0m\u001b[0;34m,\u001b[0m \u001b[0minternal_state\u001b[0m\u001b[0;34m)\u001b[0m\u001b[0;34m\u001b[0m\u001b[0;34m\u001b[0m\u001b[0m\n\u001b[1;32m    288\u001b[0m         \u001b[0;32mwith\u001b[0m \u001b[0mSimpleTimer\u001b[0m\u001b[0;34m(\u001b[0m\u001b[0;34m)\u001b[0m \u001b[0;32mas\u001b[0m \u001b[0mpass_time\u001b[0m\u001b[0;34m:\u001b[0m\u001b[0;34m\u001b[0m\u001b[0;34m\u001b[0m\u001b[0m\n\u001b[0;32m--> 289\u001b[0;31m             \u001b[0mmutated\u001b[0m \u001b[0;34m|=\u001b[0m \u001b[0mcheck\u001b[0m\u001b[0;34m(\u001b[0m\u001b[0mpss\u001b[0m\u001b[0;34m.\u001b[0m\u001b[0mrun_pass\u001b[0m\u001b[0;34m,\u001b[0m \u001b[0minternal_state\u001b[0m\u001b[0;34m)\u001b[0m\u001b[0;34m\u001b[0m\u001b[0;34m\u001b[0m\u001b[0m\n\u001b[0m\u001b[1;32m    290\u001b[0m         \u001b[0;32mwith\u001b[0m \u001b[0mSimpleTimer\u001b[0m\u001b[0;34m(\u001b[0m\u001b[0;34m)\u001b[0m \u001b[0;32mas\u001b[0m \u001b[0mfinalize_time\u001b[0m\u001b[0;34m:\u001b[0m\u001b[0;34m\u001b[0m\u001b[0;34m\u001b[0m\u001b[0m\n\u001b[1;32m    291\u001b[0m             \u001b[0mmutated\u001b[0m \u001b[0;34m|=\u001b[0m \u001b[0mcheck\u001b[0m\u001b[0;34m(\u001b[0m\u001b[0mpss\u001b[0m\u001b[0;34m.\u001b[0m\u001b[0mrun_finalizer\u001b[0m\u001b[0;34m,\u001b[0m \u001b[0minternal_state\u001b[0m\u001b[0;34m)\u001b[0m\u001b[0;34m\u001b[0m\u001b[0;34m\u001b[0m\u001b[0m\n",
      "\u001b[0;32m~/anaconda3/envs/cudf_dev/lib/python3.7/site-packages/numba/core/compiler_machinery.py\u001b[0m in \u001b[0;36mcheck\u001b[0;34m(func, compiler_state)\u001b[0m\n\u001b[1;32m    260\u001b[0m \u001b[0;34m\u001b[0m\u001b[0m\n\u001b[1;32m    261\u001b[0m         \u001b[0;32mdef\u001b[0m \u001b[0mcheck\u001b[0m\u001b[0;34m(\u001b[0m\u001b[0mfunc\u001b[0m\u001b[0;34m,\u001b[0m \u001b[0mcompiler_state\u001b[0m\u001b[0;34m)\u001b[0m\u001b[0;34m:\u001b[0m\u001b[0;34m\u001b[0m\u001b[0;34m\u001b[0m\u001b[0m\n\u001b[0;32m--> 262\u001b[0;31m             \u001b[0mmangled\u001b[0m \u001b[0;34m=\u001b[0m \u001b[0mfunc\u001b[0m\u001b[0;34m(\u001b[0m\u001b[0mcompiler_state\u001b[0m\u001b[0;34m)\u001b[0m\u001b[0;34m\u001b[0m\u001b[0;34m\u001b[0m\u001b[0m\n\u001b[0m\u001b[1;32m    263\u001b[0m             \u001b[0;32mif\u001b[0m \u001b[0mmangled\u001b[0m \u001b[0;32mnot\u001b[0m \u001b[0;32min\u001b[0m \u001b[0;34m(\u001b[0m\u001b[0;32mTrue\u001b[0m\u001b[0;34m,\u001b[0m \u001b[0;32mFalse\u001b[0m\u001b[0;34m)\u001b[0m\u001b[0;34m:\u001b[0m\u001b[0;34m\u001b[0m\u001b[0;34m\u001b[0m\u001b[0m\n\u001b[1;32m    264\u001b[0m                 msg = (\"CompilerPass implementations should return True/False. \"\n",
      "\u001b[0;32m~/anaconda3/envs/cudf_dev/lib/python3.7/site-packages/numba/core/typed_passes.py\u001b[0m in \u001b[0;36mrun_pass\u001b[0;34m(self, state)\u001b[0m\n\u001b[1;32m     98\u001b[0m                 \u001b[0mstate\u001b[0m\u001b[0;34m.\u001b[0m\u001b[0mreturn_type\u001b[0m\u001b[0;34m,\u001b[0m\u001b[0;34m\u001b[0m\u001b[0;34m\u001b[0m\u001b[0m\n\u001b[1;32m     99\u001b[0m                 \u001b[0mstate\u001b[0m\u001b[0;34m.\u001b[0m\u001b[0mlocals\u001b[0m\u001b[0;34m,\u001b[0m\u001b[0;34m\u001b[0m\u001b[0;34m\u001b[0m\u001b[0m\n\u001b[0;32m--> 100\u001b[0;31m                 raise_errors=self._raise_errors)\n\u001b[0m\u001b[1;32m    101\u001b[0m             \u001b[0mstate\u001b[0m\u001b[0;34m.\u001b[0m\u001b[0mtypemap\u001b[0m \u001b[0;34m=\u001b[0m \u001b[0mtypemap\u001b[0m\u001b[0;34m\u001b[0m\u001b[0;34m\u001b[0m\u001b[0m\n\u001b[1;32m    102\u001b[0m             \u001b[0;32mif\u001b[0m \u001b[0mself\u001b[0m\u001b[0;34m.\u001b[0m\u001b[0m_raise_errors\u001b[0m\u001b[0;34m:\u001b[0m\u001b[0;34m\u001b[0m\u001b[0;34m\u001b[0m\u001b[0m\n",
      "\u001b[0;32m~/anaconda3/envs/cudf_dev/lib/python3.7/site-packages/numba/core/typed_passes.py\u001b[0m in \u001b[0;36mtype_inference_stage\u001b[0;34m(typingctx, interp, args, return_type, locals, raise_errors)\u001b[0m\n\u001b[1;32m     70\u001b[0m \u001b[0;34m\u001b[0m\u001b[0m\n\u001b[1;32m     71\u001b[0m         \u001b[0minfer\u001b[0m\u001b[0;34m.\u001b[0m\u001b[0mbuild_constraint\u001b[0m\u001b[0;34m(\u001b[0m\u001b[0;34m)\u001b[0m\u001b[0;34m\u001b[0m\u001b[0;34m\u001b[0m\u001b[0m\n\u001b[0;32m---> 72\u001b[0;31m         \u001b[0minfer\u001b[0m\u001b[0;34m.\u001b[0m\u001b[0mpropagate\u001b[0m\u001b[0;34m(\u001b[0m\u001b[0mraise_errors\u001b[0m\u001b[0;34m=\u001b[0m\u001b[0mraise_errors\u001b[0m\u001b[0;34m)\u001b[0m\u001b[0;34m\u001b[0m\u001b[0;34m\u001b[0m\u001b[0m\n\u001b[0m\u001b[1;32m     73\u001b[0m         \u001b[0mtypemap\u001b[0m\u001b[0;34m,\u001b[0m \u001b[0mrestype\u001b[0m\u001b[0;34m,\u001b[0m \u001b[0mcalltypes\u001b[0m \u001b[0;34m=\u001b[0m \u001b[0minfer\u001b[0m\u001b[0;34m.\u001b[0m\u001b[0munify\u001b[0m\u001b[0;34m(\u001b[0m\u001b[0mraise_errors\u001b[0m\u001b[0;34m=\u001b[0m\u001b[0mraise_errors\u001b[0m\u001b[0;34m)\u001b[0m\u001b[0;34m\u001b[0m\u001b[0;34m\u001b[0m\u001b[0m\n\u001b[1;32m     74\u001b[0m \u001b[0;34m\u001b[0m\u001b[0m\n",
      "\u001b[0;32m~/anaconda3/envs/cudf_dev/lib/python3.7/site-packages/numba/core/typeinfer.py\u001b[0m in \u001b[0;36mpropagate\u001b[0;34m(self, raise_errors)\u001b[0m\n\u001b[1;32m   1069\u001b[0m                                   if isinstance(e, ForceLiteralArg)]\n\u001b[1;32m   1070\u001b[0m                 \u001b[0;32mif\u001b[0m \u001b[0;32mnot\u001b[0m \u001b[0mforce_lit_args\u001b[0m\u001b[0;34m:\u001b[0m\u001b[0;34m\u001b[0m\u001b[0;34m\u001b[0m\u001b[0m\n\u001b[0;32m-> 1071\u001b[0;31m                     \u001b[0;32mraise\u001b[0m \u001b[0merrors\u001b[0m\u001b[0;34m[\u001b[0m\u001b[0;36m0\u001b[0m\u001b[0;34m]\u001b[0m\u001b[0;34m\u001b[0m\u001b[0;34m\u001b[0m\u001b[0m\n\u001b[0m\u001b[1;32m   1072\u001b[0m                 \u001b[0;32melse\u001b[0m\u001b[0;34m:\u001b[0m\u001b[0;34m\u001b[0m\u001b[0;34m\u001b[0m\u001b[0m\n\u001b[1;32m   1073\u001b[0m                     \u001b[0;32mraise\u001b[0m \u001b[0mreduce\u001b[0m\u001b[0;34m(\u001b[0m\u001b[0moperator\u001b[0m\u001b[0;34m.\u001b[0m\u001b[0mor_\u001b[0m\u001b[0;34m,\u001b[0m \u001b[0mforce_lit_args\u001b[0m\u001b[0;34m)\u001b[0m\u001b[0;34m\u001b[0m\u001b[0;34m\u001b[0m\u001b[0m\n",
      "\u001b[0;31mTypingError\u001b[0m: Failed in nopython mode pipeline (step: nopython frontend)\n\u001b[1m\u001b[1m\u001b[1mNo implementation of function Function(<numba.cuda.compiler.DeviceFunctionTemplate object at 0x7f7cb83dca90>) found for signature:\n \n >>> gpu_add_error <CUDA device function>(array(int64, 1d, A), array(int64, 1d, A), array(float64, 1d, A))\n \nThere are 2 candidate implementations:\n\u001b[1m  - Of which 2 did not match due to:\n  Overload in function 'gpu_add_error <CUDA device function>': File: ../../../../../../ipynb/<ipython-input-6-e11feefd7c2c>: Line 1.\n    With argument(s): '(array(int64, 1d, A), array(int64, 1d, A), array(float64, 1d, A))':\u001b[0m\n\u001b[1m   Rejected as the implementation raised a specific error:\n     TypingError: Failed in nopython mode pipeline (step: nopython frontend)\n   \u001b[1m\u001b[1mUnknown attribute 'NA' of type Module(<module 'pandas' from '/home/nfs/brmiller/anaconda3/envs/cudf_dev/lib/python3.7/site-packages/pandas/__init__.py'>)\n   \u001b[1m\n   File \"<ipython-input-6-e11feefd7c2c>\", line 3:\u001b[0m\n   \u001b[1mdef gpu_add_error(x, y, out):\n       <source elided>\n       for i, (xi, yi) in enumerate(zip(x, y)):\n   \u001b[1m        if xi is pd.NA:\n   \u001b[0m        \u001b[1m^\u001b[0m\u001b[0m\n   \u001b[0m\n   \u001b[0m\u001b[1mDuring: typing of get attribute at <ipython-input-6-e11feefd7c2c> (3)\u001b[0m\n   \u001b[1m\n   File \"<ipython-input-6-e11feefd7c2c>\", line 3:\u001b[0m\n   \u001b[1mdef gpu_add_error(x, y, out):\n       <source elided>\n       for i, (xi, yi) in enumerate(zip(x, y)):\n   \u001b[1m        if xi is pd.NA:\n   \u001b[0m        \u001b[1m^\u001b[0m\u001b[0m\n\u001b[0m\n  raised from /home/nfs/brmiller/anaconda3/envs/cudf_dev/lib/python3.7/site-packages/numba/core/typeinfer.py:1071\n\u001b[0m\n\u001b[0m\u001b[1mDuring: resolving callee type: Function(<numba.cuda.compiler.DeviceFunctionTemplate object at 0x7f7cb83dca90>)\u001b[0m\n\u001b[0m\u001b[1mDuring: typing of call at <string> (8)\n\u001b[0m\n\u001b[1m\nFile \"<string>\", line 8:\u001b[0m\n\u001b[1m<source missing, REPL/exec in use?>\u001b[0m\n"
     ]
    }
   ],
   "source": [
    "df = df.apply_rows(gpu_add_error,\n",
    "              incols=['x', 'y'],\n",
    "              outcols={'out':np.float64},\n",
    "              kwargs={})\n",
    "df.head()"
   ]
  },
  {
   "cell_type": "markdown",
   "id": "material-financing",
   "metadata": {},
   "source": [
    "#### Why\n",
    "This is because nulls are generally handled \"pessimistically\", which roughly means the value of the output mask bit is just set to be a big `or` between all the input column's bitmasks. This isn't a problem in pandas, because the UDF is applied by looping through the rows and individually passing each value elementwise through the UDF. When it encounters a null, the value that gets passed is `pd.NA`, which behaves the way it needs to for the function to return the correct value for that row. \n",
    "#### The two things we want to do then are:\n",
    "- Make the API feel a little more natural\n",
    "- explicitly be able to handle nulls in a dynamic way"
   ]
  },
  {
   "cell_type": "markdown",
   "id": "informal-wisdom",
   "metadata": {},
   "source": [
    "# Detour: The cuDF UnaryOp Compilation Pipeline"
   ]
  },
  {
   "cell_type": "markdown",
   "id": "mineral-roman",
   "metadata": {},
   "source": [
    "```\n",
    "Python Function -> Numba -> PTX Code -> libcudf parser -> inlineable function -> Jitify -> Execution\n",
    "                                                                                    |                                         \n",
    "                                                             data pointers ---------^\n",
    "                                                             headers ---------------^\n",
    "                                                             extra kernel code -----^\n",
    "```"
   ]
  },
  {
   "cell_type": "markdown",
   "id": "overall-discretion",
   "metadata": {},
   "source": [
    "The proposed solution to this problem draws heavily on the existing concepts in cuDF's unaryop machinery. This is a situation where the API feels really natural and is quite compatible with pandas, even though ours is named `applymap` and theirs is named `apply` for some reason."
   ]
  },
  {
   "cell_type": "code",
   "execution_count": 8,
   "id": "expired-finder",
   "metadata": {},
   "outputs": [],
   "source": [
    "x = cudf.Series([1, None, 3])\n",
    "\n",
    "def f(x):\n",
    "    return x + 1"
   ]
  },
  {
   "cell_type": "code",
   "execution_count": 9,
   "id": "attended-mount",
   "metadata": {},
   "outputs": [
    {
     "data": {
      "text/plain": [
       "0       2\n",
       "1    <NA>\n",
       "2       4\n",
       "dtype: int64"
      ]
     },
     "execution_count": 9,
     "metadata": {},
     "output_type": "execute_result"
    }
   ],
   "source": [
    "x.applymap(f)"
   ]
  },
  {
   "cell_type": "code",
   "execution_count": 10,
   "id": "guided-slave",
   "metadata": {},
   "outputs": [
    {
     "data": {
      "text/plain": [
       "0       1\n",
       "1    <NA>\n",
       "2       3\n",
       "dtype: Int64"
      ]
     },
     "execution_count": 10,
     "metadata": {},
     "output_type": "execute_result"
    }
   ],
   "source": [
    "x_pd = x.to_pandas(nullable=True)\n",
    "x_pd"
   ]
  },
  {
   "cell_type": "code",
   "execution_count": 11,
   "id": "modern-barrier",
   "metadata": {},
   "outputs": [
    {
     "data": {
      "text/plain": [
       "0       2\n",
       "1    <NA>\n",
       "2       4\n",
       "dtype: object"
      ]
     },
     "execution_count": 11,
     "metadata": {},
     "output_type": "execute_result"
    }
   ],
   "source": [
    "x_pd.apply(f)"
   ]
  },
  {
   "cell_type": "markdown",
   "id": "general-madagascar",
   "metadata": {},
   "source": [
    "The null handling here is pretty simple - it's always a copy of the original bitmask. But that's not why we're here. Let's pop the hood. From https://github.com/rapidsai/cudf/blob/branch-0.19/python/cudf/cudf/core/column/numerical.py#L721-L726:\n",
    "\n",
    "```\n",
    "def _numeric_column_unaryop(operand: ColumnBase, op: str) -> ColumnBase:\n",
    "    if callable(op):\n",
    "        return libcudf.transform.transform(operand, op)\n",
    "\n",
    "    op = libcudf.unary.UnaryOp[op.upper()]\n",
    "    return libcudf.unary.unary_operation(operand, op)\n",
    "```\n",
    "\n",
    "From here the `transform` cython picks up the callable python function as well as the `Column` to which it is to be applied. Here's some pseudocode for what happens inside it:\n",
    "\n",
    "```\n",
    "def transform(Column input, op):\n",
    "    signature = get_signature(input)\n",
    "    compiled_op = cudautils.compile_udf(op, signature)\n",
    "    c_str = compiled_op[0].encode('UTF-8')\n",
    "\n",
    "    c_output = move(\n",
    "                 libcudf_transform(\n",
    "                    input,\n",
    "                    c_str\n",
    "                 )\n",
    "\n",
    "    )\n",
    "\n",
    "    return Column.from_unique_ptr(move(c_output))\n",
    "```"
   ]
  },
  {
   "cell_type": "markdown",
   "id": "explicit-lebanon",
   "metadata": {},
   "source": [
    "What we have so far then is:\n",
    "1. Our input column\n",
    "2. A PTX function compiled by Numba based off the python function, and the type of the argument being passed\n",
    "\n",
    "`cudautils.compile_udf` calls out to Numba to transform the pure python function into PTX code through LLVM IR and a series of compilation steps. The pipeline inside Numba goes something like:\n",
    "\n",
    "```\n",
    "Python function -> python bytecode -> type inference -> lowering -> LLVM IR -> PTX code\n",
    "```\n",
    "\n",
    "#### Python bytecode: These are instructions for the python interpreter"
   ]
  },
  {
   "cell_type": "code",
   "execution_count": 12,
   "id": "fifteen-device",
   "metadata": {},
   "outputs": [
    {
     "name": "stdout",
     "output_type": "stream",
     "text": [
      "  4           0 LOAD_FAST                0 (x)\n",
      "              2 LOAD_CONST               1 (1)\n",
      "              4 BINARY_ADD\n",
      "              6 RETURN_VALUE\n"
     ]
    }
   ],
   "source": [
    "import dis\n",
    "dis.dis(f)"
   ]
  },
  {
   "cell_type": "markdown",
   "id": "latter-helping",
   "metadata": {},
   "source": [
    "#### Type inference: Assembly level languages only operate in terms of primitive types. \n",
    "\n",
    "Thus to generate LLVM IR, Numba needs to know the types of every variable at every point during the function, from arguments to return values. This is one of the reasons `signature` is a required arg to `compile_udf`. We only get this information at runtime, because the user can pass anything into their UDF. When they apply their UDF to a `Series`, it's only at that point Numba can know that the `x` in `f(x)` is of type `int64` for instance - and only then can it actually complete the type inference portion of the process.\n",
    "\n",
    "#### Lowering\n",
    "Once type inference is complete and Numba knows the types of all the input, output, and intermediate variables, it combines that with the algorithmic information from the python function's bytecode and produces LLVM IR in a process called \"lowering\". LLVM IR is like a platform independent assembly language. One can compile from LLVM IR to assembly code for any platform, including into PTX code for NVIDIA GPUs\n",
    "\n",
    "\n",
    "#### What does this mean for us?\n",
    "It means that what we get out of `cudautils.compile_udf` is an actual string containing a PTX function, compiled by Numba for arguments of the type `input.dtype`. It is important to note that this function is a function that operates, like the original function, on a single element. It does NOT contain a kernel. In fact, here's exactly what it is:"
   ]
  },
  {
   "cell_type": "code",
   "execution_count": 13,
   "id": "direct-venezuela",
   "metadata": {},
   "outputs": [],
   "source": [
    "from cudf.utils.cudautils import compile_udf"
   ]
  },
  {
   "cell_type": "code",
   "execution_count": 14,
   "id": "engaged-coaching",
   "metadata": {},
   "outputs": [
    {
     "name": "stdout",
     "output_type": "stream",
     "text": [
      "//\n",
      "// Generated by NVIDIA NVVM Compiler\n",
      "//\n",
      "// Compiler Build ID: CL-27506705\n",
      "// Cuda compilation tools, release 10.2, V10.2.89\n",
      "// Based on LLVM 3.4svn\n",
      "//\n",
      "\n",
      ".version 6.5\n",
      ".target sm_70\n",
      ".address_size 64\n",
      "\n",
      "\t// .globl\t_ZN8__main__5f$248Ex\n",
      ".common .global .align 8 .u64 _ZN08NumbaEnv8__main__5f$248Ex;\n",
      "\n",
      ".visible .func  (.param .b32 func_retval0) _ZN8__main__5f$248Ex(\n",
      "\t.param .b64 _ZN8__main__5f$248Ex_param_0,\n",
      "\t.param .b64 _ZN8__main__5f$248Ex_param_1\n",
      ")\n",
      "{\n",
      "\t.reg .b32 \t%r<2>;\n",
      "\t.reg .b64 \t%rd<4>;\n",
      "\n",
      "\n",
      "\tld.param.u64 \t%rd1, [_ZN8__main__5f$248Ex_param_0];\n",
      "\tld.param.u64 \t%rd2, [_ZN8__main__5f$248Ex_param_1];\n",
      "\tadd.s64 \t%rd3, %rd2, 1;\n",
      "\tst.u64 \t[%rd1], %rd3;\n",
      "\tmov.u32 \t%r1, 0;\n",
      "\tst.param.b32\t[func_retval0+0], %r1;\n",
      "\tret;\n",
      "}\n",
      "\n",
      "\n",
      "\u0000\n"
     ]
    }
   ],
   "source": [
    "from numba.np import numpy_support\n",
    "numba_type = numpy_support.from_dtype(np.dtype('int64'))\n",
    "ptx, _ = compile_udf(f, (numba_type,))\n",
    "\n",
    "print(ptx)"
   ]
  },
  {
   "cell_type": "markdown",
   "id": "inclusive-endorsement",
   "metadata": {},
   "source": [
    "```\n",
    "// .globl main\n",
    "\n",
    ".visible .func  (.param .b32 return_value) main(\n",
    "\t.param .b64 param_0,    # TWO input parameters\n",
    "\t.param .b64 param_1      \n",
    ")\n",
    "{\n",
    "\t.reg .b32 \t%r<2>;      # declare two 32-bit registers, named %r1 and %r2\n",
    "\t.reg .b64 \t%rd<4>;     # declare 4 64-bit registers named %rd1, %rd2, %rd3, %rd4\n",
    "\n",
    "\n",
    "\tld.param.u64 \t%rd1, [param_0];       # load param_0 into %rd1\n",
    "\tld.param.u64 \t%rd2, [param_1];       # load param_1 into %rd2\n",
    "\tadd.s64 \t%rd3, %rd2, 1;             # take the value of %rd2 (e.g. param_1) add 1, place in %rd3\n",
    "\tst.u64 \t[%rd1], %rd3;                  # store the value of %rd3 into the location pointer to by %rd1\n",
    "\tmov.u32 \t%r1, 0;                    # move 0 into %r1\n",
    "\tst.param.b32\t[func_retval0+0], %r1; # place the value of %r1 into the return value\n",
    "\tret;                                   # return 0\n",
    "}\n",
    "```"
   ]
  },
  {
   "cell_type": "markdown",
   "id": "imperial-quality",
   "metadata": {},
   "source": [
    "# What happens next?\n",
    "Libcudf takes it from here. Broadly speaking, what happens at this point is libcudf hacks together a string (which consists of several elements) which ends up being handed off to jitify and compiled into a final kernel. Jitify then launches that kernel, taking the pointer to the beginning of the actual data column to be transformed as an argument. The three elements are:\n",
    "\n",
    "1. A header\n",
    "2. A outer \"calling\" kernel that generically calls the PTX function\n",
    "3. A processed version of the PTX function that inlines it directly into CUDA\n",
    "\n",
    "The libcudf parser essentially takes the PTX function as above and turns it into a generically callable inlinable function. The final file that gets passed off to jitify to be compiled looks like this:\n",
    "\n",
    "```\n",
    "\n",
    "#pragma once\n",
    "\n",
    "// Include Jitify's cstddef header first\n",
    "#include <cstddef>\n",
    "\n",
    "#include <cuda/std/climits>\n",
    "#include <cuda/std/cstddef>\n",
    "#include <cuda/std/limits>\n",
    "#include <cudf/types.hpp>\n",
    "#include <cudf/wrappers/timestamps.hpp>\n",
    "#include <cudf/utilities/bit.hpp>\n",
    "\n",
    "template <typename TypeOut, typename TypeIn>\n",
    "    __global__\n",
    "    void kernel(cudf::size_type size,\n",
    "                    TypeOut* out_data, TypeIn* in_data) {\n",
    "        int tid = threadIdx.x;\n",
    "        int blkid = blockIdx.x;\n",
    "        int blksz = blockDim.x;\n",
    "        int gridsz = gridDim.x;\n",
    "\n",
    "        int start = tid + blkid * blksz;\n",
    "        int step = blksz * gridsz;\n",
    "\n",
    "        for (cudf::size_type i=start; i<size; i+=step) {\n",
    "          GENERIC_UNARY_OP(&out_data[i], in_data[i]);  \n",
    "        }\n",
    "    }\n",
    "\n",
    "\n",
    "__device__ __inline__ void GENERIC_UNARY_OP (\n",
    "  int64_t* _ZN8__main__5f_241Ex_param_0, \n",
    "  long int _ZN8__main__5f_241Ex_param_1\n",
    "){\n",
    "\n",
    " asm volatile (\"{\");  asm volatile (\"  .reg .b32 _r<2>;\");\n",
    "   /**   .reg .b32 \t%r<2>  */\n",
    "  asm volatile (\"  .reg .b64 _rd<4>;\");\n",
    "   /**   .reg .b64 \t%rd<4>  */\n",
    "  asm volatile (\"  mov.u64 _rd1,  %0;\": : \"l\"(_ZN8__main__5f_241Ex_param_0));\n",
    "   /**   ld.param.u64 \t%rd1, [_ZN8__main__5f$241Ex_param_0]\n",
    "  asm volatile (\"  mov.u64 _rd2,  %0;\": : \"l\"(_ZN8__main__5f_241Ex_param_1));\n",
    "   /**   ld.param.u64 \t%rd2, [_ZN8__main__5f$241Ex_param_1] \n",
    "  asm volatile (\"  add.s64 _rd3, _rd2, 1;\");\n",
    "   /**   add.s64 \t%rd3, %rd2, 1  */\n",
    "  asm volatile (\"  st.u64 [_rd1], _rd3;\");\n",
    "   /**   st.u64 \t[%rd1], %rd3  */\n",
    "  asm volatile (\"  mov.u32 _r1, 0;\");\n",
    "   /**   mov.u32 \t%r1, 0  */\n",
    "  asm volatile (\" /** *** SNIP. *** */\");\n",
    "   /**   st.param.b32\t[func_retval0+0], %r1  */\n",
    "  asm volatile (\"bra RETTGT;\");\n",
    " asm volatile (\"RETTGT:}\");\n",
    "\n",
    "}\n",
    "\n",
    "```\n",
    "\n",
    "Apart from returning the data back to the user, that's more or less the process. "
   ]
  },
  {
   "cell_type": "markdown",
   "id": "musical-membership",
   "metadata": {},
   "source": [
    "# What does all this have to do with NAs?\n",
    "The pipeline is based on the idea that anything you could want to do with a single value of `x` arithmatically is expressable as a generic PTX function of `x` as along with some type information, that numba can generate for you. The rest of the machinery is just meant to deliver the data to this function threadwise. We're going to extend this concept to a function of four variables instead of one: a masked binary operation `x + y` where the four arguments are:\n",
    "\n",
    "1. `x`\n",
    "2. `y`\n",
    "3. `x.mask`\n",
    "4. `y.mask`\n",
    "\n",
    "\n",
    "We're going to modify the general kernel that calls `GENERIC_UNARY_OP` and generalizes it to accept these four arguments and call a `GENERIC_BINARY_OP` instead (with two extra arguments - the mask bools)\n",
    "\n",
    "# Creating a Numba extension type\n",
    "\n",
    "Remember how Numba produces PTX code from a python function and some type information? We're going to create a new Type in Numba that is build around a Struct:\n",
    "\n",
    "```\n",
    "struct Masked {\n",
    "    int64_t value;\n",
    "    bool valid;\n",
    "}\n",
    "```\n",
    "And we're going to add an overload of `add` (`+`, `operator.add`) to Numba's registry of function signatures that correctly handles null semantics. Then we're going to JIT the incoming python function and use a `Masked` type for every argument. "
   ]
  },
  {
   "cell_type": "markdown",
   "id": "qualified-communications",
   "metadata": {},
   "source": [
    "#### Tell Numba that a `MaskedType` exists, and not much else"
   ]
  },
  {
   "cell_type": "code",
   "execution_count": 15,
   "id": "boring-orleans",
   "metadata": {},
   "outputs": [],
   "source": [
    "from numba.core.extending import types\n",
    "class MaskedType(types.Type):\n",
    "    # A corresponding MaskedType for numba\n",
    "    # numba can only generate LLVM IR for things\n",
    "    # that it recognizes. This is the most basic\n",
    "    # thing needed for numba to recognize the type,\n",
    "    # all it really says is \"there's a type, \n",
    "    # called MaskedType\". name is for __repr__\n",
    "    def __init__(self):\n",
    "        super().__init__(name=\"Masked\")\n",
    "        \n",
    "numba_masked = MaskedType()"
   ]
  },
  {
   "cell_type": "code",
   "execution_count": 16,
   "id": "annual-regard",
   "metadata": {},
   "outputs": [],
   "source": [
    "from numba.core.extending import make_attribute_wrapper\n",
    "\n",
    "make_attribute_wrapper(MaskedType, \"value\", \"value\")\n",
    "make_attribute_wrapper(MaskedType, \"valid\", \"valid\")"
   ]
  },
  {
   "cell_type": "markdown",
   "id": "persistent-palace",
   "metadata": {},
   "source": [
    "#### Tell Numba what this type looks like. In our case, it's a struct. "
   ]
  },
  {
   "cell_type": "code",
   "execution_count": 17,
   "id": "opening-specific",
   "metadata": {},
   "outputs": [],
   "source": [
    "from numba.core.extending import register_model, models\n",
    "\n",
    "@register_model(MaskedType)\n",
    "class MaskedModel(models.StructModel):\n",
    "    def __init__(self, dmm, fe_type):\n",
    "        members = [(\"value\", types.int64), (\"valid\", types.bool_)]\n",
    "        models.StructModel.__init__(self, dmm, fe_type, members)"
   ]
  },
  {
   "cell_type": "markdown",
   "id": "posted-confirmation",
   "metadata": {},
   "source": [
    "#### Register an overload of `operator.add` with Numba's registry of `CUDA` functions. \n",
    "This is part of the typing phase. When we pass `f(x, y): return x + y` into Numba and say that `x` and `y` are of type `Masked`, it hits the `x + y` statement and goes looking for an overload of `add` with a signature matching those operands. It works by either finding a match and the end or not having one. This piece of code conditionally emits the signature it needs to find, when prompted with two arguments of type `Masked`. One can see how they might dynamically return different types depending on arguments. But this roughly says \"when Numba looks for an overload of `add` that takes two `Masked` as arguments, let it know that there is one, and it will return a `Masked`. "
   ]
  },
  {
   "cell_type": "code",
   "execution_count": 18,
   "id": "subjective-marshall",
   "metadata": {},
   "outputs": [],
   "source": [
    "from numba.cuda.cudadecl import registry as cuda_registry\n",
    "import operator\n",
    "from numba.core.typing.templates import AbstractTemplate\n",
    "\n",
    "\n",
    "@cuda_registry.register_global(operator.add)\n",
    "class MaskedScalarAdd(AbstractTemplate):\n",
    "    # abstracttemplate vs concretetemplate\n",
    "    def generic(self, args, kws):\n",
    "        if isinstance(args[0], MaskedType) and isinstance(args[1], MaskedType):\n",
    "            return signature(numba_masked, numba_masked, numba_masked)"
   ]
  },
  {
   "cell_type": "markdown",
   "id": "compliant-strengthening",
   "metadata": {},
   "source": [
    "#### Implement Masked + Masked\n",
    "So far, Numba knows:\n",
    "- There's a `MaskedType`. \n",
    "- There's an overload of `operator.add` that accepts two `MaskedType` and returns a `MaskedType`\n",
    "\n",
    "Now it essentially needs an implementation for that overload of `operator.add`."
   ]
  },
  {
   "cell_type": "code",
   "execution_count": 19,
   "id": "treated-pastor",
   "metadata": {},
   "outputs": [],
   "source": [
    "from numba.cuda.cudaimpl import lower as cuda_lower\n",
    "\n",
    "@cuda_lower(operator.add, MaskedType, MaskedType)\n",
    "def masked_scalar_add_impl(context, builder, sig, args):\n",
    "    # get the types from the signature\n",
    "    masked_type_1, masked_type_2 = sig.args\n",
    "    masked_return_type = sig.return_type\n",
    "\n",
    "    # create LLVM IR structs\n",
    "    m1 = cgutils.create_struct_proxy(masked_type_1)(\n",
    "        context, builder, value=args[0]\n",
    "    )\n",
    "    m2 = cgutils.create_struct_proxy(masked_type_2)(\n",
    "        context, builder, value=args[1]\n",
    "    )\n",
    "    result = cgutils.create_struct_proxy(masked_return_type)(context, builder)\n",
    "\n",
    "    valid = builder.and_(m1.valid, m2.valid)\n",
    "    result.valid = valid\n",
    "    with builder.if_then(valid):\n",
    "        result.value = builder.add(m1.value, m2.value)\n",
    "\n",
    "    return result._getvalue()"
   ]
  },
  {
   "cell_type": "markdown",
   "id": "clear-assessment",
   "metadata": {},
   "source": [
    "# Testing it Out"
   ]
  },
  {
   "cell_type": "code",
   "execution_count": null,
   "id": "formed-soccer",
   "metadata": {},
   "outputs": [],
   "source": [
    "from numba import cuda\n",
    "def compile_masked(func):\n",
    "    signature = (numba_masked, numba_masked)\n",
    "    ptx, _ = cuda.compile_ptx_for_current_device(func, signature, device=True)\n",
    "    return ptx"
   ]
  },
  {
   "cell_type": "code",
   "execution_count": null,
   "id": "essential-shade",
   "metadata": {},
   "outputs": [],
   "source": [
    "def f(x, y):\n",
    "    return x + y"
   ]
  },
  {
   "cell_type": "code",
   "execution_count": null,
   "id": "understanding-firmware",
   "metadata": {},
   "outputs": [],
   "source": [
    "#ptx = compile_masked(f)"
   ]
  },
  {
   "cell_type": "markdown",
   "id": "wound-communications",
   "metadata": {},
   "source": [
    "```\n",
    "        // .globl       _ZN8__main__6f$2411E6Masked6Masked                                                                                                                                                                                                                   \n",
    ".common .global .align 8 .u64 _ZN08NumbaEnv8__main__6f$2411E6Masked6Masked;                                                                                                                                                                                                  \n",
    "                                                                                                                                                                                                                                                                             \n",
    ".visible .func  (.param .b32 func_retval0) _ZN8__main__6f$2411E6Masked6Masked(                                                                                                                                                                                               \n",
    "        .param .b64 _ZN8__main__6f$2411E6Masked6Masked_param_0,                                                                                                                                                                                                              \n",
    "        .param .b64 _ZN8__main__6f$2411E6Masked6Masked_param_1,                                                                                                                                                                                                              \n",
    "        .param .b32 _ZN8__main__6f$2411E6Masked6Masked_param_2,                                                                                                                                                                                                              \n",
    "        .param .b64 _ZN8__main__6f$2411E6Masked6Masked_param_3,                                                                                                                                                                                                              \n",
    "        .param .b32 _ZN8__main__6f$2411E6Masked6Masked_param_4                                                                                                                                                                                                               \n",
    ")                                                                                                                                                                                                                                                                            \n",
    "{                                                                                                                                                                                                                                                                            \n",
    "        .reg .pred      %p<4>;                                                                                                                                                                                                                                               \n",
    "        .reg .b16       %rs<4>;                                                                                                                                                                                                                                              \n",
    "        .reg .b32       %r<2>;                                                                                                                                                                                                                                               \n",
    "        .reg .b64       %rd<6>;                                                                                                                                                                                                                                              \n",
    "                                                                                                                                                                                                                                                                             \n",
    "                                                                                                                                                                                                                                                                             \n",
    "        ld.param.u64    %rd1, [_ZN8__main__6f$2411E6Masked6Masked_param_0];                                                                                                                                                                                                  \n",
    "        ld.param.u64    %rd2, [_ZN8__main__6f$2411E6Masked6Masked_param_1];                                                                                                                                                                                                  \n",
    "        ld.param.u64    %rd3, [_ZN8__main__6f$2411E6Masked6Masked_param_3];                                                                                                                                                                                                  \n",
    "        ld.param.u8     %rs1, [_ZN8__main__6f$2411E6Masked6Masked_param_2];                                                                                                                                                                                                  \n",
    "        setp.ne.s16     %p1, %rs1, 0;                                                                                                                                                                                                                                        \n",
    "        ld.param.u8     %rs2, [_ZN8__main__6f$2411E6Masked6Masked_param_4];                                                                                                                                                                                                  \n",
    "        setp.ne.s16     %p2, %rs2, 0;                                                                                                                                                                                                                                        \n",
    "        and.pred        %p3, %p1, %p2;                                                                                                                                                                                                                                       \n",
    "        add.s64         %rd4, %rd3, %rd2;                                                                                                                                                                                                                                    \n",
    "        selp.b64        %rd5, %rd4, 0, %p3;                                                                                                                                                                                                                                  \n",
    "        selp.u16        %rs3, 1, 0, %p3;                                                                                                                                                                                                                                     \n",
    "        st.u64  [%rd1], %rd5;                                                                                                                                                                                                                                                \n",
    "        st.u8   [%rd1+8], %rs3;                                                                                                                                                                                                                                              \n",
    "        mov.u32         %r1, 0;                                                                                                                                                                                                                                              \n",
    "        st.param.b32    [func_retval0+0], %r1;                                                                                            \n",
    "        ret;                                                                                                                                                                                                                                                                 \n",
    "}        \n",
    "```"
   ]
  },
  {
   "cell_type": "markdown",
   "id": "atmospheric-database",
   "metadata": {},
   "source": [
    "#### Then, this is the whole file being passed to jitify:\n",
    "\n",
    "```cuda\n",
    "\n",
    "    #pragma once\n",
    "\n",
    "    // Include Jitify's cstddef header first\n",
    "    #include <cstddef>\n",
    "\n",
    "    #include <cuda/std/climits>\n",
    "    #include <cuda/std/cstddef>\n",
    "    #include <cuda/std/limits>\n",
    "    #include <cudf/types.hpp>\n",
    "    #include <cudf/wrappers/timestamps.hpp>\n",
    "    #include <cudf/utilities/bit.hpp>\n",
    "\n",
    "    struct Masked {\n",
    "      int64_t value;\n",
    "      bool valid;\n",
    "    };\n",
    "    \n",
    "   \n",
    "\n",
    "    void null_kernel(cudf::size_type size,\n",
    "                     TypeOut* out_data, \n",
    "                     TypeLhs* lhs_data,\n",
    "                     TypeRhs* rhs_data,\n",
    "                     bool* out_mask,\n",
    "                     cudf::bitmask_type const* lhs_mask,\n",
    "                     cudf::size_type lhs_offset,\n",
    "                     cudf::bitmask_type const* rhs_mask,\n",
    "                     cudf::size_type rhs_offset\n",
    "    ) {\n",
    "        int tid = threadIdx.x;\n",
    "        int blkid = blockIdx.x;\n",
    "        int blksz = blockDim.x;\n",
    "        int gridsz = gridDim.x;\n",
    "\n",
    "        int start = tid + blkid * blksz;\n",
    "        int step = blksz * gridsz;\n",
    "\n",
    "        Masked output;\n",
    "\n",
    "        char l_valid;\n",
    "        char r_valid;\n",
    "\n",
    "        long int l_data;\n",
    "        long int r_data;\n",
    "\n",
    "        for (cudf::size_type i=start; i<size; i+=step) {\n",
    "          l_valid = lhs_mask ? cudf::bit_is_set(lhs_mask, lhs_offset + i) : true;\n",
    "          r_valid = rhs_mask ? cudf::bit_is_set(rhs_mask, rhs_offset + i) : true;\n",
    "          l_data = lhs_data[i];\n",
    "          r_data = rhs_data[i];\n",
    "\n",
    "          GENERIC_BINARY_OP(&output.value, lhs_data[i], l_valid, rhs_data[i], r_valid);\n",
    "\n",
    "          out_data[i] = output.value;\n",
    "          out_mask[i] = output.valid;\n",
    "             \n",
    "      }   \n",
    "      \n",
    "__device__ __inline__ void GENERIC_BINARY_OP(                                                                                                                                                                                                                                \n",
    "  int64_t* _ZN8__main__6f_2413E6Masked6Masked_param_0,                                                                                                                                                                                                                       \n",
    "  long int _ZN8__main__6f_2413E6Masked6Masked_param_1,                                                                                                                                                                                                                       \n",
    "  char _ZN8__main__6f_2413E6Masked6Masked_param_2,                                                                                                                                                                                                                           \n",
    "  long int _ZN8__main__6f_2413E6Masked6Masked_param_3,                                                                                                                                                                                                                       \n",
    "  char _ZN8__main__6f_2413E6Masked6Masked_param_4                                                                                                                                                                                                                            \n",
    "){                                                                                                                                                                                                                                                                           \n",
    "                                                                                                                                                                                                                                                                             \n",
    " asm volatile (\"{\");  asm volatile (\"  .reg .pred _p<4>;\");                                                                                                                                                                                                                  \n",
    "   /**   .reg .pred     %p<4>  */                                                                                                                                                                                                                                            \n",
    "                                                                                                                                                                                                                                                                             \n",
    "  asm volatile (\"  .reg .b16 _rs<4>;\");                                                                                                                                                                                                                                      \n",
    "   /**   .reg .b16      %rs<4>  */                                                                                                                                                                                                                                           \n",
    "                                                                                                                                                                                                                                                                             \n",
    "  asm volatile (\"  .reg .b32 _r<2>;\");                                                                                                                                                                                                                                       \n",
    "   /**   .reg .b32      %r<2>  */                                                                                                                                                                                                                                            \n",
    "                                                                                                                                                                                                                                                                             \n",
    "  asm volatile (\"  .reg .b64 _rd<6>;\");                                                                                                                                                                                                                                      \n",
    "   /**   .reg .b64      %rd<6>  */                                                                                                                                                                                                                                           \n",
    "\n",
    "  asm volatile (\"  mov.u64 _rd1,  %0;\": : \"l\"(_ZN8__main__6f_2413E6Masked6Masked_param_0));\n",
    "   /**   ld.param.u64   %rd1, [_ZN8__main__6f$2413E6Masked6Masked_param_0]  */\n",
    "\n",
    "  asm volatile (\"  mov.u64 _rd2,  %0;\": : \"l\"(_ZN8__main__6f_2413E6Masked6Masked_param_1));\n",
    "   /**   ld.param.u64   %rd2, [_ZN8__main__6f$2413E6Masked6Masked_param_1]  */\n",
    "\n",
    "  asm volatile (\"  mov.u64 _rd3,  %0;\": : \"l\"(_ZN8__main__6f_2413E6Masked6Masked_param_3));\n",
    "   /**   ld.param.u64   %rd3, [_ZN8__main__6f$2413E6Masked6Masked_param_3]  */\n",
    "\n",
    "  asm volatile (\"  cvt.u8.u8 _rs1,  %0;\": : \"h\"( static_cast<short>(_ZN8__main__6f_2413E6Masked6Masked_param_2)));\n",
    "   /**   ld.param.u8    %rs1, [_ZN8__main__6f$2413E6Masked6Masked_param_2]  */\n",
    "\n",
    "  asm volatile (\"  setp.ne.s16 _p1, _rs1, 0;\");\n",
    "   /**   setp.ne.s16    %p1, %rs1, 0  */\n",
    "\n",
    "  asm volatile (\"  cvt.u8.u8 _rs2,  %0;\": : \"h\"( static_cast<short>(_ZN8__main__6f_2413E6Masked6Masked_param_4)));\n",
    "   /**   ld.param.u8    %rs2, [_ZN8__main__6f$2413E6Masked6Masked_param_4]  */\n",
    "\n",
    "  asm volatile (\"  setp.ne.s16 _p2, _rs2, 0;\");\n",
    "   /**   setp.ne.s16    %p2, %rs2, 0  */\n",
    "\n",
    "  asm volatile (\"  and.pred _p3, _p1, _p2;\");\n",
    "   /**   and.pred       %p3, %p1, %p2  */\n",
    "\n",
    "  asm volatile (\"  add.s64 _rd4, _rd3, _rd2;\");\n",
    "   /**   add.s64        %rd4, %rd3, %rd2  */\n",
    "\n",
    "  asm volatile (\"  selp.b64 _rd5, _rd4, 0, _p3;\");\n",
    "   /**   selp.b64       %rd5, %rd4, 0, %p3  */\n",
    "\n",
    "  asm volatile (\"  selp.u16 _rs3, 1, 0, _p3;\");\n",
    "   /**   selp.u16       %rs3, 1, 0, %p3  */\n",
    "\n",
    "  asm volatile (\"  st.u64 [_rd1], _rd5;\");\n",
    "   /**   st.u64         [%rd1], %rd5  */\n",
    "\n",
    "  asm volatile (\"  st.u8 [_rd1+8], _rs3;\");\n",
    "   /**   st.u8  [%rd1+8], %rs3  */\n",
    "\n",
    "  asm volatile (\"  mov.u32 _r1, 0;\");\n",
    "   /**   mov.u32        %r1, 0  */\n",
    "\n",
    "  asm volatile (\" /** *** The way we parse the CUDA PTX assumes the function returns the return value through the first function parameter. Thus the `st.param.***` instructions are not processed. *** */\");\n",
    "   /**   st.param.b32   [func_retval0+0], %r1  */\n",
    "\n",
    "  asm volatile (\"bra RETTGT;\");\n",
    "\n",
    "\n",
    " asm volatile (\"RETTGT:}\");}      \n",
    "          \n",
    "```"
   ]
  },
  {
   "cell_type": "markdown",
   "id": "concrete-pillow",
   "metadata": {},
   "source": [
    "# Test it\n",
    "Here are some very basic cython bindings just used for the purposes of testing this exact functionality\n",
    "```\n",
    "def masked_binary_op(Column A, Column B, op, Column output_column, Column output_mask):\n",
    "    cdef column_view A_view = A.view()\n",
    "    cdef column_view B_view = B.view()\n",
    "\n",
    "    cdef string c_str\n",
    "    cdef type_id c_tid\n",
    "    cdef data_type c_dtype\n",
    "\n",
    "    if A.dtype != np.dtype('int64') or B.dtype != np.dtype('int64'):\n",
    "        raise TypeError('int64 please')\n",
    "    \n",
    " \n",
    "    from cudf.core.udf import compile_udf\n",
    "    c_str = compile_udf(op).encode('UTF-8')\n",
    "\n",
    "    c_tid = <type_id> (\n",
    "        <underlying_type_t_type_id> np_to_cudf_types[np.dtype('int64')]\n",
    "    )\n",
    "    c_dtype = data_type(c_tid)\n",
    "\n",
    "    cdef column_view outcol_view = output_column.view()\n",
    "    cdef column_view outmsk_view = output_mask.view()\n",
    "\n",
    "    with nogil:\n",
    "        c_output = move(libcudf_transform.masked_binary_op(\n",
    "            A_view,\n",
    "            B_view,\n",
    "            c_str,\n",
    "            c_dtype,\n",
    "            outcol_view,\n",
    "            outmsk_view\n",
    "        ))\n",
    "```"
   ]
  },
  {
   "cell_type": "code",
   "execution_count": 20,
   "id": "after-fellow",
   "metadata": {},
   "outputs": [],
   "source": [
    "from cudf._lib.transform import masked_binary_op\n",
    "\n",
    "def demo_udf(func, s1, s2):\n",
    "    col1, col2 = s1._column, s2._column\n",
    "\n",
    "    output_column = cudf.core.column.as_column(np.arange(8), dtype='int64')\n",
    "    output_mask = cudf.core.column.as_column([False] * 8)\n",
    "\n",
    "    result_col = masked_binary_op(col1, col2, func, output_column, output_mask)\n",
    "    return cudf.Series(result_col)"
   ]
  },
  {
   "cell_type": "code",
   "execution_count": 30,
   "id": "phantom-square",
   "metadata": {},
   "outputs": [
    {
     "data": {
      "text/plain": [
       "0       2\n",
       "1    <NA>\n",
       "2    <NA>\n",
       "3    <NA>\n",
       "4       6\n",
       "5    <NA>\n",
       "6      10\n",
       "7    <NA>\n",
       "dtype: int64"
      ]
     },
     "execution_count": 30,
     "metadata": {},
     "output_type": "execute_result"
    }
   ],
   "source": [
    "def f(x, y):\n",
    "    return x + y\n",
    "\n",
    "s1 = cudf.Series([1, None, 3,    None, 2, 2,    5, None])\n",
    "s2 = cudf.Series([1, 2,    None, None, 4, None, 5, None])\n",
    "\n",
    "demo_udf(f, s1, s2)"
   ]
  },
  {
   "cell_type": "code",
   "execution_count": 31,
   "id": "southern-stationery",
   "metadata": {},
   "outputs": [
    {
     "data": {
      "text/plain": [
       "0       2\n",
       "1    <NA>\n",
       "2    <NA>\n",
       "3    <NA>\n",
       "4       6\n",
       "5    <NA>\n",
       "6      10\n",
       "7    <NA>\n",
       "dtype: int64"
      ]
     },
     "execution_count": 31,
     "metadata": {},
     "output_type": "execute_result"
    }
   ],
   "source": [
    "s1 + s2"
   ]
  },
  {
   "cell_type": "markdown",
   "id": "recovered-premiere",
   "metadata": {},
   "source": [
    "# `cudf.NA`\n",
    "In general, we wan't the capability to work with `cudf.NA` inside our functions directly. To do this, we're just going to reapply the same machinery to overload what happens when we add a `MaskedType` to `cudf.NA`."
   ]
  },
  {
   "cell_type": "markdown",
   "id": "filled-malta",
   "metadata": {},
   "source": [
    "#### Create an NAType"
   ]
  },
  {
   "cell_type": "code",
   "execution_count": 21,
   "id": "chemical-trick",
   "metadata": {},
   "outputs": [],
   "source": [
    "from cudf.core.scalar import _NAType\n",
    "class NAType(types.Type):\n",
    "    # \"There is a type called NAType\"\n",
    "    def __init__(self):\n",
    "        super().__init__(name=\"NA\")\n",
    "\n",
    "numba_na = NAType()"
   ]
  },
  {
   "cell_type": "code",
   "execution_count": 22,
   "id": "southern-prague",
   "metadata": {},
   "outputs": [
    {
     "data": {
      "text/plain": [
       "numba.core.datamodel.models.OpaqueModel"
      ]
     },
     "execution_count": 22,
     "metadata": {},
     "output_type": "execute_result"
    }
   ],
   "source": [
    "from numba.core.extending import typeof_impl\n",
    "@typeof_impl.register(_NAType)\n",
    "def typeof_na(val, c):\n",
    "    # instances of _NAType will be \n",
    "    # treaded as instances of NAType. \n",
    "    return numba_na\n",
    "\n",
    "\n",
    "\n",
    "register_model(NAType)(models.OpaqueModel)"
   ]
  },
  {
   "cell_type": "markdown",
   "id": "accessible-monthly",
   "metadata": {},
   "source": [
    "#### `operator.add` typing for Masked <-> NA"
   ]
  },
  {
   "cell_type": "code",
   "execution_count": 23,
   "id": "harmful-glossary",
   "metadata": {},
   "outputs": [],
   "source": [
    "@cuda_registry.register_global(operator.add)\n",
    "class MaskedScalarAddNull(AbstractTemplate):\n",
    "    def generic(self, args, kws):\n",
    "        if isinstance(args[0], MaskedType) and isinstance(args[1], NAType):\n",
    "            return signature(numba_masked, numba_masked, numba_na)\n",
    "  "
   ]
  },
  {
   "cell_type": "markdown",
   "id": "brown-cheese",
   "metadata": {},
   "source": [
    "#### Lowering: AKA what to actually do when this is requested\n",
    "This says that when `+` is invoked between a `MaskedType` and an `NAType`, to make a new `MaskedType`, set it's validity to zero and return it."
   ]
  },
  {
   "cell_type": "code",
   "execution_count": 24,
   "id": "encouraging-reynolds",
   "metadata": {},
   "outputs": [],
   "source": [
    "from numba.cuda.cudaimpl import registry as cuda_lowering_registry\n",
    "\n",
    "@cuda_lower(operator.add, MaskedType, NAType)\n",
    "def masked_scalar_add_na_impl(context, builder, sig, args):\n",
    "#    return_type = sig.return_type\n",
    "    # use context to get llvm type for a bool\n",
    "    result = cgutils.create_struct_proxy(numba_masked)(context, builder)\n",
    "    result.valid = context.get_constant(types.boolean, 0)\n",
    "    return result._getvalue()\n",
    "\n",
    "\n",
    "@cuda_lowering_registry.lower_constant(NAType)\n",
    "def constant_dummy(context, builder, ty, pyval):\n",
    "    # This handles None, etc.\n",
    "    return context.get_dummy_value()"
   ]
  },
  {
   "cell_type": "markdown",
   "id": "productive-rings",
   "metadata": {},
   "source": [
    "# Constants\n",
    "At this point the pattern is familiar. Register an overload that emits a signature if the operands match a `MaskedType` and a constant. The lowering is logically fairly simple. If the `MaskedType` is null, the answer is null, else the answer is a new `MaskedType` whose `value` is the sum of the inputs `value` and the constant."
   ]
  },
  {
   "cell_type": "code",
   "execution_count": 25,
   "id": "short-makeup",
   "metadata": {},
   "outputs": [],
   "source": [
    "from llvmlite import ir\n",
    "\n",
    "@cuda_registry.register_global(operator.add)\n",
    "class MaskedScalarAddConstant(AbstractTemplate):\n",
    "    def generic(self, args, kws):\n",
    "        if isinstance(args[0], MaskedType) and isinstance(args[1], types.Integer):\n",
    "            return signature(numba_masked, numba_masked, types.int64)\n",
    "\n",
    "@cuda_lower(operator.add, MaskedType, types.Integer)\n",
    "def masked_scalar_add_constant_impl(context, builder, sig, input_values):\n",
    "    masked_type, const_type = sig.args\n",
    "\n",
    "    indata = cgutils.create_struct_proxy(masked_type)(context, builder, value=input_values[0])\n",
    "    result = cgutils.create_struct_proxy(numba_masked)(context, builder)\n",
    "    #to_add_const = context.get_constant(const_type, input_values[1])\n",
    "\n",
    "    result.valid = context.get_constant(types.boolean, 0)\n",
    "    with builder.if_then(indata.valid):\n",
    "        result.value = builder.add(indata.value, input_values[1])\n",
    "        result.valid = context.get_constant(types.boolean, 1)\n",
    "\n",
    "    return result._getvalue()\n"
   ]
  },
  {
   "cell_type": "code",
   "execution_count": 26,
   "id": "entitled-wealth",
   "metadata": {
    "scrolled": false
   },
   "outputs": [],
   "source": [
    "\n",
    "def f(x, y):\n",
    "    return x + y + cudf.NA\n",
    "\n",
    "s1 = cudf.Series([1, None, 3,    None, 2, 2,    5, None])\n",
    "s2 = cudf.Series([1, 2,    None, None, 4, None, 5, None])\n",
    "\n",
    "result = demo_udf(f, s1, s2)"
   ]
  },
  {
   "cell_type": "code",
   "execution_count": 27,
   "id": "genuine-davis",
   "metadata": {},
   "outputs": [
    {
     "data": {
      "text/plain": [
       "0    <NA>\n",
       "1    <NA>\n",
       "2    <NA>\n",
       "3    <NA>\n",
       "4    <NA>\n",
       "5    <NA>\n",
       "6    <NA>\n",
       "7    <NA>\n",
       "dtype: int64"
      ]
     },
     "execution_count": 27,
     "metadata": {},
     "output_type": "execute_result"
    }
   ],
   "source": [
    "result"
   ]
  },
  {
   "cell_type": "code",
   "execution_count": 28,
   "id": "polyphonic-second",
   "metadata": {},
   "outputs": [],
   "source": [
    "def f(x, y):\n",
    "    return x + y + 1\n",
    "\n",
    "s1 = cudf.Series([1, None, 3,    None, 2, 2,    5, None])\n",
    "s2 = cudf.Series([1, 2,    None, None, 4, None, 5, None])\n",
    "\n",
    "result = demo_udf(f, s1, s2)"
   ]
  },
  {
   "cell_type": "code",
   "execution_count": 29,
   "id": "sporting-campbell",
   "metadata": {},
   "outputs": [
    {
     "data": {
      "text/plain": [
       "0       3\n",
       "1    <NA>\n",
       "2    <NA>\n",
       "3    <NA>\n",
       "4       7\n",
       "5    <NA>\n",
       "6      11\n",
       "7    <NA>\n",
       "dtype: int64"
      ]
     },
     "execution_count": 29,
     "metadata": {},
     "output_type": "execute_result"
    }
   ],
   "source": [
    "result"
   ]
  },
  {
   "cell_type": "markdown",
   "id": "focal-castle",
   "metadata": {},
   "source": []
  },
  {
   "cell_type": "code",
   "execution_count": null,
   "id": "romance-complaint",
   "metadata": {},
   "outputs": [],
   "source": []
  },
  {
   "cell_type": "code",
   "execution_count": null,
   "id": "speaking-aquatic",
   "metadata": {},
   "outputs": [],
   "source": []
  }
 ],
 "metadata": {
  "kernelspec": {
   "display_name": "Python 3",
   "language": "python",
   "name": "python3"
  },
  "language_info": {
   "codemirror_mode": {
    "name": "ipython",
    "version": 3
   },
   "file_extension": ".py",
   "mimetype": "text/x-python",
   "name": "python",
   "nbconvert_exporter": "python",
   "pygments_lexer": "ipython3",
   "version": "3.7.10"
  }
 },
 "nbformat": 4,
 "nbformat_minor": 5
}
